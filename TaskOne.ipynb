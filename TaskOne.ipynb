{
 "cells": [
  {
   "cell_type": "code",
   "execution_count": 1,
   "metadata": {},
   "outputs": [
    {
     "name": "stdout",
     "output_type": "stream",
     "text": [
      "hello world!!!\n"
     ]
    }
   ],
   "source": [
    "print (\"hello world!!!\")"
   ]
  },
  {
   "cell_type": "code",
   "execution_count": 2,
   "metadata": {},
   "outputs": [],
   "source": [
    "import numpy as np"
   ]
  },
  {
   "cell_type": "code",
   "execution_count": 3,
   "metadata": {},
   "outputs": [
    {
     "name": "stdout",
     "output_type": "stream",
     "text": [
      "1.16.4\n",
      "mkl_info:\n",
      "    libraries = ['mkl_rt']\n",
      "    library_dirs = ['D:/git/Anaconda3\\\\Library\\\\lib']\n",
      "    define_macros = [('SCIPY_MKL_H', None), ('HAVE_CBLAS', None)]\n",
      "    include_dirs = ['C:\\\\Program Files (x86)\\\\IntelSWTools\\\\compilers_and_libraries_2019.0.117\\\\windows\\\\mkl', 'C:\\\\Program Files (x86)\\\\IntelSWTools\\\\compilers_and_libraries_2019.0.117\\\\windows\\\\mkl\\\\include', 'C:\\\\Program Files (x86)\\\\IntelSWTools\\\\compilers_and_libraries_2019.0.117\\\\windows\\\\mkl\\\\lib', 'D:/git/Anaconda3\\\\Library\\\\include']\n",
      "blas_mkl_info:\n",
      "    libraries = ['mkl_rt']\n",
      "    library_dirs = ['D:/git/Anaconda3\\\\Library\\\\lib']\n",
      "    define_macros = [('SCIPY_MKL_H', None), ('HAVE_CBLAS', None)]\n",
      "    include_dirs = ['C:\\\\Program Files (x86)\\\\IntelSWTools\\\\compilers_and_libraries_2019.0.117\\\\windows\\\\mkl', 'C:\\\\Program Files (x86)\\\\IntelSWTools\\\\compilers_and_libraries_2019.0.117\\\\windows\\\\mkl\\\\include', 'C:\\\\Program Files (x86)\\\\IntelSWTools\\\\compilers_and_libraries_2019.0.117\\\\windows\\\\mkl\\\\lib', 'D:/git/Anaconda3\\\\Library\\\\include']\n",
      "blas_opt_info:\n",
      "    libraries = ['mkl_rt']\n",
      "    library_dirs = ['D:/git/Anaconda3\\\\Library\\\\lib']\n",
      "    define_macros = [('SCIPY_MKL_H', None), ('HAVE_CBLAS', None)]\n",
      "    include_dirs = ['C:\\\\Program Files (x86)\\\\IntelSWTools\\\\compilers_and_libraries_2019.0.117\\\\windows\\\\mkl', 'C:\\\\Program Files (x86)\\\\IntelSWTools\\\\compilers_and_libraries_2019.0.117\\\\windows\\\\mkl\\\\include', 'C:\\\\Program Files (x86)\\\\IntelSWTools\\\\compilers_and_libraries_2019.0.117\\\\windows\\\\mkl\\\\lib', 'D:/git/Anaconda3\\\\Library\\\\include']\n",
      "lapack_mkl_info:\n",
      "    libraries = ['mkl_rt']\n",
      "    library_dirs = ['D:/git/Anaconda3\\\\Library\\\\lib']\n",
      "    define_macros = [('SCIPY_MKL_H', None), ('HAVE_CBLAS', None)]\n",
      "    include_dirs = ['C:\\\\Program Files (x86)\\\\IntelSWTools\\\\compilers_and_libraries_2019.0.117\\\\windows\\\\mkl', 'C:\\\\Program Files (x86)\\\\IntelSWTools\\\\compilers_and_libraries_2019.0.117\\\\windows\\\\mkl\\\\include', 'C:\\\\Program Files (x86)\\\\IntelSWTools\\\\compilers_and_libraries_2019.0.117\\\\windows\\\\mkl\\\\lib', 'D:/git/Anaconda3\\\\Library\\\\include']\n",
      "lapack_opt_info:\n",
      "    libraries = ['mkl_rt']\n",
      "    library_dirs = ['D:/git/Anaconda3\\\\Library\\\\lib']\n",
      "    define_macros = [('SCIPY_MKL_H', None), ('HAVE_CBLAS', None)]\n",
      "    include_dirs = ['C:\\\\Program Files (x86)\\\\IntelSWTools\\\\compilers_and_libraries_2019.0.117\\\\windows\\\\mkl', 'C:\\\\Program Files (x86)\\\\IntelSWTools\\\\compilers_and_libraries_2019.0.117\\\\windows\\\\mkl\\\\include', 'C:\\\\Program Files (x86)\\\\IntelSWTools\\\\compilers_and_libraries_2019.0.117\\\\windows\\\\mkl\\\\lib', 'D:/git/Anaconda3\\\\Library\\\\include']\n"
     ]
    }
   ],
   "source": [
    "print(np.__version__)\n",
    "np.show_config()"
   ]
  },
  {
   "cell_type": "code",
   "execution_count": 4,
   "metadata": {},
   "outputs": [
    {
     "name": "stdout",
     "output_type": "stream",
     "text": [
      "[0. 0. 0. 0. 0. 0. 0. 0. 0. 0.]\n"
     ]
    }
   ],
   "source": [
    "#创建一个长度为10的空向量\n",
    "Z = np.zeros(10)\n",
    "print(Z)"
   ]
  },
  {
   "cell_type": "code",
   "execution_count": 5,
   "metadata": {},
   "outputs": [
    {
     "name": "stdout",
     "output_type": "stream",
     "text": [
      "800 bytes\n"
     ]
    }
   ],
   "source": [
    "#4、如何找到任何一个数组的内存大小\n",
    "Z = np.zeros((10,10))\n",
    "print(\"%d bytes\" % (Z.size * Z.itemsize))"
   ]
  },
  {
   "cell_type": "code",
   "execution_count": 12,
   "metadata": {},
   "outputs": [
    {
     "name": "stdout",
     "output_type": "stream",
     "text": [
      "add(x1, x2, /, out=None, *, where=True, casting='same_kind', order='K', dtype=None, subok=True[, signature, extobj])\n",
      "\n",
      "Add arguments element-wise.\n",
      "\n",
      "Parameters\n",
      "----------\n",
      "x1, x2 : array_like\n",
      "    The arrays to be added.  If ``x1.shape != x2.shape``, they must be\n",
      "    broadcastable to a common shape (which may be the shape of one or\n",
      "    the other).\n",
      "out : ndarray, None, or tuple of ndarray and None, optional\n",
      "    A location into which the result is stored. If provided, it must have\n",
      "    a shape that the inputs broadcast to. If not provided or `None`,\n",
      "    a freshly-allocated array is returned. A tuple (possible only as a\n",
      "    keyword argument) must have length equal to the number of outputs.\n",
      "where : array_like, optional\n",
      "    Values of True indicate to calculate the ufunc at that position, values\n",
      "    of False indicate to leave the value in the output alone.\n",
      "**kwargs\n",
      "    For other keyword-only arguments, see the\n",
      "    :ref:`ufunc docs <ufuncs.kwargs>`.\n",
      "\n",
      "Returns\n",
      "-------\n",
      "add : ndarray or scalar\n",
      "    The sum of `x1` and `x2`, element-wise.\n",
      "    This is a scalar if both `x1` and `x2` are scalars.\n",
      "\n",
      "Notes\n",
      "-----\n",
      "Equivalent to `x1` + `x2` in terms of array broadcasting.\n",
      "\n",
      "Examples\n",
      "--------\n",
      ">>> np.add(1.0, 4.0)\n",
      "5.0\n",
      ">>> x1 = np.arange(9.0).reshape((3, 3))\n",
      ">>> x2 = np.arange(3.0)\n",
      ">>> np.add(x1, x2)\n",
      "array([[  0.,   2.,   4.],\n",
      "       [  3.,   5.,   7.],\n",
      "       [  6.,   8.,  10.]])\n"
     ]
    }
   ],
   "source": [
    "#5、如何从命令行得到numpy中add函数的说明文档？\n",
    "np.info(np.add)"
   ]
  },
  {
   "cell_type": "code",
   "execution_count": 8,
   "metadata": {
    "scrolled": true
   },
   "outputs": [
    {
     "name": "stdout",
     "output_type": "stream",
     "text": [
      "add(x1, x2, /, out=None, *, where=True, casting='same_kind', order='K', dtype=None, subok=True[, signature, extobj])\n",
      "\n",
      "Add arguments element-wise.\n",
      "\n",
      "Parameters\n",
      "----------\n",
      "x1, x2 : array_like\n",
      "    The arrays to be added.  If ``x1.shape != x2.shape``, they must be\n",
      "    broadcastable to a common shape (which may be the shape of one or\n",
      "    the other).\n",
      "out : ndarray, None, or tuple of ndarray and None, optional\n",
      "    A location into which the result is stored. If provided, it must have\n",
      "    a shape that the inputs broadcast to. If not provided or `None`,\n",
      "    a freshly-allocated array is returned. A tuple (possible only as a\n",
      "    keyword argument) must have length equal to the number of outputs.\n",
      "where : array_like, optional\n",
      "    Values of True indicate to calculate the ufunc at that position, values\n",
      "    of False indicate to leave the value in the output alone.\n",
      "**kwargs\n",
      "    For other keyword-only arguments, see the\n",
      "    :ref:`ufunc docs <ufuncs.kwargs>`.\n",
      "\n",
      "Returns\n",
      "-------\n",
      "add : ndarray or scalar\n",
      "    The sum of `x1` and `x2`, element-wise.\n",
      "    This is a scalar if both `x1` and `x2` are scalars.\n",
      "\n",
      "Notes\n",
      "-----\n",
      "Equivalent to `x1` + `x2` in terms of array broadcasting.\n",
      "\n",
      "Examples\n",
      "--------\n",
      ">>> np.add(1.0, 4.0)\n",
      "5.0\n",
      ">>> x1 = np.arange(9.0).reshape((3, 3))\n",
      ">>> x2 = np.arange(3.0)\n",
      ">>> np.add(x1, x2)\n",
      "array([[  0.,   2.,   4.],\n",
      "       [  3.,   5.,   7.],\n",
      "       [  6.,   8.,  10.]])\n"
     ]
    }
   ],
   "source": [
    "#5、如何从命令行得到numpy中add函数的说明文档？\n",
    "np.info(np.add)"
   ]
  },
  {
   "cell_type": "code",
   "execution_count": 9,
   "metadata": {
    "scrolled": true
   },
   "outputs": [
    {
     "name": "stdout",
     "output_type": "stream",
     "text": [
      "[0. 0. 0. 0. 1. 0. 0. 0. 0. 0.]\n"
     ]
    }
   ],
   "source": [
    "#6、创建一个长度为10，并且除了第五个值为1的空向量\n",
    "Z = np.zeros(10)\n",
    "Z[4] = 1\n",
    "print(Z)"
   ]
  },
  {
   "cell_type": "code",
   "execution_count": 11,
   "metadata": {},
   "outputs": [
    {
     "name": "stdout",
     "output_type": "stream",
     "text": [
      "[10 11 12 13 14 15 16 17 18 19 20 21 22 23 24]\n"
     ]
    }
   ],
   "source": [
    "#7、创建一个值域范围从10到49的向量\n",
    "Z = np.arange(10,25)\n",
    "print(Z)"
   ]
  },
  {
   "cell_type": "code",
   "execution_count": 13,
   "metadata": {},
   "outputs": [
    {
     "name": "stdout",
     "output_type": "stream",
     "text": [
      "[49 48 47 46 45 44 43 42 41 40 39 38 37 36 35 34 33 32 31 30 29 28 27 26\n",
      " 25 24 23 22 21 20 19 18 17 16 15 14 13 12 11 10  9  8  7  6  5  4  3  2\n",
      "  1  0]\n"
     ]
    }
   ],
   "source": [
    "#8、反转一个向量（第一个元素变成最后一个）\n",
    "Z = np.arange(50)\n",
    "Z = Z[::-1]\n",
    "print(Z)"
   ]
  },
  {
   "cell_type": "code",
   "execution_count": 14,
   "metadata": {},
   "outputs": [
    {
     "name": "stdout",
     "output_type": "stream",
     "text": [
      "[[0 1 2]\n",
      " [3 4 5]\n",
      " [6 7 8]]\n"
     ]
    }
   ],
   "source": [
    "#9、创建一个3x3并且值从0到8的矩阵\n",
    "Z = np.arange(9).reshape(3,3)\n",
    "print(Z)"
   ]
  },
  {
   "cell_type": "code",
   "execution_count": 15,
   "metadata": {},
   "outputs": [
    {
     "name": "stdout",
     "output_type": "stream",
     "text": [
      "(array([0, 1, 4], dtype=int64),)\n"
     ]
    }
   ],
   "source": [
    "#10、找到数组[1,2,0,0,4,0]中非0元素的位置索引\n",
    "nz = np.nonzero([1,2,0,0,4,0])\n",
    "print(nz)"
   ]
  },
  {
   "cell_type": "code",
   "execution_count": 16,
   "metadata": {},
   "outputs": [
    {
     "name": "stdout",
     "output_type": "stream",
     "text": [
      "[[1. 0. 0.]\n",
      " [0. 1. 0.]\n",
      " [0. 0. 1.]]\n"
     ]
    }
   ],
   "source": [
    "#11、创建一个3x3的单位矩阵\n",
    "Z = np.eye(3)\n",
    "print(Z)"
   ]
  },
  {
   "cell_type": "code",
   "execution_count": 18,
   "metadata": {},
   "outputs": [
    {
     "name": "stdout",
     "output_type": "stream",
     "text": [
      "[[[0.73756714 0.44354324 0.04247617]\n",
      "  [0.0548609  0.12565941 0.78540024]\n",
      "  [0.56808781 0.41288418 0.41175763]]\n",
      "\n",
      " [[0.66693843 0.03641135 0.10969435]\n",
      "  [0.32897413 0.09876896 0.33543283]\n",
      "  [0.03724297 0.0191323  0.80880197]]\n",
      "\n",
      " [[0.22274798 0.96673667 0.61386672]\n",
      "  [0.9176043  0.62873958 0.40756436]\n",
      "  [0.40546496 0.32215582 0.66210467]]]\n"
     ]
    }
   ],
   "source": [
    "#12、创建一个3x3x3的随机数组\n",
    "Z = np.random.random((3,3,3))\n",
    "print(Z)"
   ]
  },
  {
   "cell_type": "code",
   "execution_count": 19,
   "metadata": {},
   "outputs": [
    {
     "name": "stdout",
     "output_type": "stream",
     "text": [
      "0.0011655868365467725 0.9848464315563931\n"
     ]
    }
   ],
   "source": [
    "#13、创建一个10x10的随机数组并找到它的最大值和最小值\n",
    "Z = np.random.random((10,10))\n",
    "Zmin, Zmax = Z.min(), Z.max()\n",
    "print(Zmin, Zmax)"
   ]
  },
  {
   "cell_type": "code",
   "execution_count": 20,
   "metadata": {},
   "outputs": [
    {
     "name": "stdout",
     "output_type": "stream",
     "text": [
      "0.5857478583381878\n"
     ]
    }
   ],
   "source": [
    "#14、创建一个额长度为30的随机向量，并找到他的平均值\n",
    "Z = np.random.random(30)\n",
    "m = Z.mean()\n",
    "print(m)"
   ]
  },
  {
   "cell_type": "code",
   "execution_count": 21,
   "metadata": {},
   "outputs": [
    {
     "name": "stdout",
     "output_type": "stream",
     "text": [
      "[[1. 1. 1. 1. 1. 1. 1. 1. 1. 1.]\n",
      " [1. 0. 0. 0. 0. 0. 0. 0. 0. 1.]\n",
      " [1. 0. 0. 0. 0. 0. 0. 0. 0. 1.]\n",
      " [1. 0. 0. 0. 0. 0. 0. 0. 0. 1.]\n",
      " [1. 0. 0. 0. 0. 0. 0. 0. 0. 1.]\n",
      " [1. 0. 0. 0. 0. 0. 0. 0. 0. 1.]\n",
      " [1. 0. 0. 0. 0. 0. 0. 0. 0. 1.]\n",
      " [1. 0. 0. 0. 0. 0. 0. 0. 0. 1.]\n",
      " [1. 0. 0. 0. 0. 0. 0. 0. 0. 1.]\n",
      " [1. 1. 1. 1. 1. 1. 1. 1. 1. 1.]]\n"
     ]
    }
   ],
   "source": [
    "#15、创建一个二维数组，其中边界值是1，其余值为0\n",
    "Z = np.ones((10,10))\n",
    "Z[1:-1,1:-1]=0\n",
    "print(Z)"
   ]
  },
  {
   "cell_type": "code",
   "execution_count": 23,
   "metadata": {},
   "outputs": [
    {
     "name": "stdout",
     "output_type": "stream",
     "text": [
      "[[0. 0. 0. 0. 0. 0. 0.]\n",
      " [0. 1. 1. 1. 1. 1. 0.]\n",
      " [0. 1. 1. 1. 1. 1. 0.]\n",
      " [0. 1. 1. 1. 1. 1. 0.]\n",
      " [0. 1. 1. 1. 1. 1. 0.]\n",
      " [0. 1. 1. 1. 1. 1. 0.]\n",
      " [0. 0. 0. 0. 0. 0. 0.]]\n"
     ]
    }
   ],
   "source": [
    "#16、对于一个存在的数组，如何添加一个用0填充的边界\n",
    "Z = np.ones((5,5))\n",
    "Z = np.pad(Z, pad_width=1, mode='constant', constant_values=0)\n",
    "print(Z)"
   ]
  },
  {
   "cell_type": "code",
   "execution_count": 25,
   "metadata": {},
   "outputs": [
    {
     "name": "stdout",
     "output_type": "stream",
     "text": [
      "nan\n"
     ]
    }
   ],
   "source": [
    "#17-1、以下表达式运行结果分别是什么？\n",
    "print(0 * np.nan)"
   ]
  },
  {
   "cell_type": "code",
   "execution_count": 26,
   "metadata": {},
   "outputs": [
    {
     "name": "stdout",
     "output_type": "stream",
     "text": [
      "False\n"
     ]
    }
   ],
   "source": [
    "#17-2、以下表达式运行结果分别是什么？\n",
    "print(np.nan == np.nan)"
   ]
  },
  {
   "cell_type": "code",
   "execution_count": 27,
   "metadata": {},
   "outputs": [
    {
     "name": "stdout",
     "output_type": "stream",
     "text": [
      "False\n"
     ]
    }
   ],
   "source": [
    "#17-3、以下表达式运行结果分别是什么？\n",
    "print(np.inf > np.nan)"
   ]
  },
  {
   "cell_type": "code",
   "execution_count": 28,
   "metadata": {},
   "outputs": [
    {
     "name": "stdout",
     "output_type": "stream",
     "text": [
      "nan\n"
     ]
    }
   ],
   "source": [
    "#17-4、以下表达式运行结果分别是什么？\n",
    "print(np.nan - np.nan)"
   ]
  },
  {
   "cell_type": "code",
   "execution_count": 29,
   "metadata": {},
   "outputs": [
    {
     "name": "stdout",
     "output_type": "stream",
     "text": [
      "False\n"
     ]
    }
   ],
   "source": [
    "#17-5、以下表达式运行结果分别是什么？\n",
    "print(0.3 == 3 * 0.1)"
   ]
  },
  {
   "cell_type": "code",
   "execution_count": 30,
   "metadata": {},
   "outputs": [
    {
     "name": "stdout",
     "output_type": "stream",
     "text": [
      "[[0 0 0 0 0]\n",
      " [1 0 0 0 0]\n",
      " [0 2 0 0 0]\n",
      " [0 0 3 0 0]\n",
      " [0 0 0 4 0]]\n"
     ]
    }
   ],
   "source": [
    "#18、创建一个5x5的矩阵，并设置1,2,3,4落在其对角线下方位置\n",
    "Z = np.diag(1+np.arange(4),k=-1)\n",
    "print(Z)"
   ]
  },
  {
   "cell_type": "code",
   "execution_count": 31,
   "metadata": {},
   "outputs": [
    {
     "name": "stdout",
     "output_type": "stream",
     "text": [
      "[[0 1 0 1 0 1 0 1]\n",
      " [1 0 1 0 1 0 1 0]\n",
      " [0 1 0 1 0 1 0 1]\n",
      " [1 0 1 0 1 0 1 0]\n",
      " [0 1 0 1 0 1 0 1]\n",
      " [1 0 1 0 1 0 1 0]\n",
      " [0 1 0 1 0 1 0 1]\n",
      " [1 0 1 0 1 0 1 0]]\n"
     ]
    }
   ],
   "source": [
    "#19、创建一个8x8的矩阵，并且设置成棋盘样式\n",
    "Z = np.zeros((8,8),dtype=int)\n",
    "Z[1::2,::2]=1\n",
    "Z[::2,1::2]=1\n",
    "print(Z)"
   ]
  },
  {
   "cell_type": "code",
   "execution_count": 32,
   "metadata": {},
   "outputs": [
    {
     "name": "stdout",
     "output_type": "stream",
     "text": [
      "(1, 5, 4)\n"
     ]
    }
   ],
   "source": [
    "#20、考虑一个（6,7,8）形状的数组，其第100各元素的索引（x,y,z）是什么\n",
    "print(np.unravel_index(100,(6,7,8)))"
   ]
  },
  {
   "cell_type": "code",
   "execution_count": 35,
   "metadata": {},
   "outputs": [
    {
     "name": "stdout",
     "output_type": "stream",
     "text": [
      "[[0 1 0 1 0 1 0 1]\n",
      " [1 0 1 0 1 0 1 0]\n",
      " [0 1 0 1 0 1 0 1]\n",
      " [1 0 1 0 1 0 1 0]\n",
      " [0 1 0 1 0 1 0 1]\n",
      " [1 0 1 0 1 0 1 0]\n",
      " [0 1 0 1 0 1 0 1]\n",
      " [1 0 1 0 1 0 1 0]]\n"
     ]
    }
   ],
   "source": [
    "#21、用title函数去创建一个8x8的棋盘样式矩阵\n",
    "Z = np.tile(np.array([[0,1],[1,0]]),(4,4))\n",
    "print(Z)"
   ]
  },
  {
   "cell_type": "code",
   "execution_count": 36,
   "metadata": {},
   "outputs": [
    {
     "name": "stdout",
     "output_type": "stream",
     "text": [
      "[[0.64478811 0.         0.71829684 0.75474933 0.27077523]\n",
      " [0.95277479 0.54638733 0.10788181 0.59000333 0.41341561]\n",
      " [0.72855834 0.57862282 0.95759244 0.36528366 1.        ]\n",
      " [0.42360137 0.36417886 0.53805287 0.10368389 0.9903965 ]\n",
      " [0.90588524 0.78718272 0.34502376 0.30714556 0.50877647]]\n"
     ]
    }
   ],
   "source": [
    "#22、对一个5x5的随机矩阵做归一化\n",
    "Z = np.random.random((5,5))\n",
    "Zmax,Zmin = Z.max(), Z.min()\n",
    "Z = (Z-Zmin)/(Zmax-Zmin)\n",
    "print(Z)"
   ]
  },
  {
   "cell_type": "code",
   "execution_count": 37,
   "metadata": {},
   "outputs": [
    {
     "data": {
      "text/plain": [
       "dtype([('r', 'u1'), ('g', 'u1'), ('b', 'u1'), ('a', 'u1')])"
      ]
     },
     "execution_count": 37,
     "metadata": {},
     "output_type": "execute_result"
    }
   ],
   "source": [
    "#23、创建一个将颜色描述为（RGBA）四个无符号字节的自定义dtype？\n",
    "color = np.dtype([(\"r\", np.ubyte, 1), \n",
    "                  (\"g\", np.ubyte, 1), \n",
    "                  (\"b\", np.ubyte, 1),\n",
    "                  (\"a\", np.ubyte, 1)])\n",
    "color"
   ]
  },
  {
   "cell_type": "code",
   "execution_count": 38,
   "metadata": {},
   "outputs": [
    {
     "name": "stdout",
     "output_type": "stream",
     "text": [
      "[[3. 3.]\n",
      " [3. 3.]\n",
      " [3. 3.]\n",
      " [3. 3.]\n",
      " [3. 3.]]\n"
     ]
    }
   ],
   "source": [
    "#24、一个5x3的矩阵与一个3x2的矩阵相乘，实矩阵乘积是什么\n",
    "Z = np.dot(np.ones((5,3)), np.ones((3,2)))\n",
    "print(Z)"
   ]
  },
  {
   "cell_type": "code",
   "execution_count": 39,
   "metadata": {},
   "outputs": [
    {
     "name": "stdout",
     "output_type": "stream",
     "text": [
      "[ 0  1  2  3 -4 -5 -6 -7 -8  9 10]\n"
     ]
    }
   ],
   "source": [
    "#25、给定一个一维数组，对其在3到8之间的所有元素取反(取负数)\n",
    "Z = np.arange(11)\n",
    "Z[(3<Z) & (Z<=8)] *= -1\n",
    "print(Z)"
   ]
  },
  {
   "cell_type": "code",
   "execution_count": 40,
   "metadata": {},
   "outputs": [
    {
     "name": "stdout",
     "output_type": "stream",
     "text": [
      "9\n"
     ]
    }
   ],
   "source": [
    "#26-1、下面脚本运行后的结果是什么？\n",
    "print(sum(range(5), -1))"
   ]
  },
  {
   "cell_type": "code",
   "execution_count": 41,
   "metadata": {},
   "outputs": [
    {
     "name": "stdout",
     "output_type": "stream",
     "text": [
      "10\n"
     ]
    }
   ],
   "source": [
    "#26-2、下面脚本运行后的结果是什么？\n",
    "from numpy import *\n",
    "print(sum(range(5), -1))"
   ]
  },
  {
   "cell_type": "code",
   "execution_count": 42,
   "metadata": {
    "scrolled": true
   },
   "outputs": [
    {
     "data": {
      "text/plain": [
       "array([  1,   1,   4,  27, 256], dtype=int32)"
      ]
     },
     "execution_count": 42,
     "metadata": {},
     "output_type": "execute_result"
    }
   ],
   "source": [
    "#27-1、考虑一个整数向量Z，下列表达合法的是那个？\n",
    "Z = np.arange(5)\n",
    "Z ** Z \n",
    "#legal"
   ]
  },
  {
   "cell_type": "code",
   "execution_count": 53,
   "metadata": {},
   "outputs": [
    {
     "data": {
      "text/plain": [
       "array([0, 1, 2, 4, 8], dtype=int32)"
      ]
     },
     "execution_count": 53,
     "metadata": {},
     "output_type": "execute_result"
    }
   ],
   "source": [
    "#27-2、考虑一个整数向量Z，下列表达合法的是那个？\n",
    "Z = np.arange(5)\n",
    "2 << Z >> 2 \n",
    "#false"
   ]
  },
  {
   "cell_type": "code",
   "execution_count": 44,
   "metadata": {},
   "outputs": [
    {
     "data": {
      "text/plain": [
       "array([False, False, False, False, False])"
      ]
     },
     "execution_count": 44,
     "metadata": {},
     "output_type": "execute_result"
    }
   ],
   "source": [
    "#27-3、考虑一个整数向量Z，下列表达合法的是那个？\n",
    "Z = np.arange(5)\n",
    "Z <- Z\n",
    "#legal"
   ]
  },
  {
   "cell_type": "code",
   "execution_count": 49,
   "metadata": {},
   "outputs": [
    {
     "data": {
      "text/plain": [
       "array([0.+0.j, 0.+1.j, 0.+2.j, 0.+3.j, 0.+4.j])"
      ]
     },
     "execution_count": 49,
     "metadata": {},
     "output_type": "execute_result"
    }
   ],
   "source": [
    "#27-4、考虑一个整数向量Z，下列表达合法的是那个？\n",
    "Z = np.arange(5)\n",
    "1j*Z\n",
    "#legal"
   ]
  },
  {
   "cell_type": "code",
   "execution_count": 50,
   "metadata": {},
   "outputs": [
    {
     "data": {
      "text/plain": [
       "array([0., 1., 2., 3., 4.])"
      ]
     },
     "execution_count": 50,
     "metadata": {},
     "output_type": "execute_result"
    }
   ],
   "source": [
    "#27-5、考虑一个整数向量Z，下列表达合法的是那个？\n",
    "Z = np.arange(5)\n",
    "Z/1/1\n",
    "#legal"
   ]
  },
  {
   "cell_type": "code",
   "execution_count": 52,
   "metadata": {},
   "outputs": [
    {
     "data": {
      "text/plain": [
       "array([0, 1, 2, 3, 4])"
      ]
     },
     "execution_count": 52,
     "metadata": {},
     "output_type": "execute_result"
    }
   ],
   "source": [
    "#27-6、考虑一个整数向量Z，下列表达合法的是那个？\n",
    "Z = np.arange(5)\n",
    "Z          #Z<Z>Z \n",
    "#false"
   ]
  },
  {
   "cell_type": "code",
   "execution_count": 54,
   "metadata": {},
   "outputs": [
    {
     "name": "stdout",
     "output_type": "stream",
     "text": [
      "nan\n"
     ]
    },
    {
     "name": "stderr",
     "output_type": "stream",
     "text": [
      "D:\\git\\Anaconda3\\lib\\site-packages\\ipykernel_launcher.py:2: RuntimeWarning: invalid value encountered in true_divide\n",
      "  \n"
     ]
    }
   ],
   "source": [
    "#28-1、下列表达式的结果分别是什么？\n",
    "print(np.array(0) / np.array(0))"
   ]
  },
  {
   "cell_type": "code",
   "execution_count": 55,
   "metadata": {},
   "outputs": [
    {
     "name": "stdout",
     "output_type": "stream",
     "text": [
      "0\n"
     ]
    },
    {
     "name": "stderr",
     "output_type": "stream",
     "text": [
      "D:\\git\\Anaconda3\\lib\\site-packages\\ipykernel_launcher.py:2: RuntimeWarning: divide by zero encountered in floor_divide\n",
      "  \n"
     ]
    }
   ],
   "source": [
    "#28-2、下列表达式的结果分别是什么？\n",
    "print(np.array(0) // np.array(0))"
   ]
  },
  {
   "cell_type": "code",
   "execution_count": 56,
   "metadata": {},
   "outputs": [
    {
     "name": "stdout",
     "output_type": "stream",
     "text": [
      "[-2.14748365e+09]\n"
     ]
    }
   ],
   "source": [
    "#28-3、下列表达式的结果分别是什么？\n",
    "print(np.array([np.nan]).astype(int).astype(float))"
   ]
  },
  {
   "cell_type": "code",
   "execution_count": 57,
   "metadata": {},
   "outputs": [
    {
     "name": "stdout",
     "output_type": "stream",
     "text": [
      "[ -4.   3.  -9.   5.  10.  -7.  -2.   4. -10.  -9.]\n"
     ]
    }
   ],
   "source": [
    "#29、如何从零位对浮点数组做舍入？\n",
    "Z = np.random.uniform(-10,+10,10)\n",
    "print(np.copysign(np.ceil(np.abs(Z)),Z))"
   ]
  },
  {
   "cell_type": "code",
   "execution_count": 60,
   "metadata": {},
   "outputs": [
    {
     "name": "stdout",
     "output_type": "stream",
     "text": [
      "[0 1 5 9]\n"
     ]
    }
   ],
   "source": [
    "#30、如何找到两个数组中的共同元素，是数字1\n",
    "Z1 = np.random.randint(0,10,10)\n",
    "Z2 = np.random.randint(0,10,10)\n",
    "print(np.intersect1d(Z1,Z2))"
   ]
  },
  {
   "cell_type": "code",
   "execution_count": 63,
   "metadata": {},
   "outputs": [],
   "source": [
    "#31、如何忽略所有的numpy警告（尽管不建议这样做）\n",
    "#Suicide mode on\n",
    "defaults = np.seterr(all=\"ignore\")\n",
    "Z = np.ones(1)/0\n",
    "\n",
    "#Back to sanity\n",
    "_ = np.seterr(**defaults)\n",
    "\n",
    "An equivalent way, with a context manager:\n",
    "    Z = np.ones(1)/0\n",
    "    \n",
    "#不太清楚此处代码的含义"
   ]
  },
  {
   "cell_type": "code",
   "execution_count": 64,
   "metadata": {},
   "outputs": [
    {
     "name": "stderr",
     "output_type": "stream",
     "text": [
      "D:\\git\\Anaconda3\\lib\\site-packages\\ipykernel_launcher.py:2: RuntimeWarning: invalid value encountered in sqrt\n",
      "  \n"
     ]
    },
    {
     "data": {
      "text/plain": [
       "False"
      ]
     },
     "execution_count": 64,
     "metadata": {},
     "output_type": "execute_result"
    }
   ],
   "source": [
    "#32、下面表达式是正确的么？\n",
    "np.sqrt(-1) == np.emath.sqrt(-1)\n",
    "#false"
   ]
  },
  {
   "cell_type": "code",
   "execution_count": 65,
   "metadata": {},
   "outputs": [
    {
     "name": "stdout",
     "output_type": "stream",
     "text": [
      "Yesterday is 2019-06-20\n",
      "Today is 2019-06-21\n",
      "Tomorrow is 2019-06-22\n"
     ]
    }
   ],
   "source": [
    "#33、如何得到昨天、今天、明天的日期？\n",
    "yesterday = np.datetime64('today', 'D') - np.timedelta64(1, 'D')\n",
    "today     = np.datetime64('today', 'D')\n",
    "tomorrow  = np.datetime64('today', 'D') + np.timedelta64(1, 'D')\n",
    "print (\"Yesterday is \" + str(yesterday))\n",
    "print (\"Today is \" + str(today))\n",
    "print (\"Tomorrow is \"+ str(tomorrow))"
   ]
  },
  {
   "cell_type": "code",
   "execution_count": 66,
   "metadata": {},
   "outputs": [
    {
     "name": "stdout",
     "output_type": "stream",
     "text": [
      "['2016-07-01' '2016-07-02' '2016-07-03' '2016-07-04' '2016-07-05'\n",
      " '2016-07-06' '2016-07-07' '2016-07-08' '2016-07-09' '2016-07-10'\n",
      " '2016-07-11' '2016-07-12' '2016-07-13' '2016-07-14' '2016-07-15'\n",
      " '2016-07-16' '2016-07-17' '2016-07-18' '2016-07-19' '2016-07-20'\n",
      " '2016-07-21' '2016-07-22' '2016-07-23' '2016-07-24' '2016-07-25'\n",
      " '2016-07-26' '2016-07-27' '2016-07-28' '2016-07-29' '2016-07-30'\n",
      " '2016-07-31']\n"
     ]
    }
   ],
   "source": [
    "#34、如何得到所有与2016年7月对应的日期\n",
    "Z = np.arange('2016-07', '2016-08', dtype='datetime64[D]')\n",
    "print(Z)"
   ]
  },
  {
   "cell_type": "code",
   "execution_count": 67,
   "metadata": {},
   "outputs": [
    {
     "data": {
      "text/plain": [
       "array([3., 3., 3.])"
      ]
     },
     "execution_count": 67,
     "metadata": {},
     "output_type": "execute_result"
    }
   ],
   "source": [
    "#35-1、如何直接在位计算(A+B)\\*(-A/2)(不建立副本)\n",
    "A = np.ones(3)*1\n",
    "B = np.ones(3)*2\n",
    "C = np.ones(3)*3\n",
    "np.add(A,B,out=B)"
   ]
  },
  {
   "cell_type": "code",
   "execution_count": 68,
   "metadata": {},
   "outputs": [
    {
     "data": {
      "text/plain": [
       "array([0.5, 0.5, 0.5])"
      ]
     },
     "execution_count": 68,
     "metadata": {},
     "output_type": "execute_result"
    }
   ],
   "source": [
    "np.divide(A,2,out=A)"
   ]
  },
  {
   "cell_type": "code",
   "execution_count": 69,
   "metadata": {},
   "outputs": [
    {
     "data": {
      "text/plain": [
       "array([-0.5, -0.5, -0.5])"
      ]
     },
     "execution_count": 69,
     "metadata": {},
     "output_type": "execute_result"
    }
   ],
   "source": [
    "np.negative(A, out=A)"
   ]
  },
  {
   "cell_type": "code",
   "execution_count": 70,
   "metadata": {},
   "outputs": [
    {
     "data": {
      "text/plain": [
       "array([-1.5, -1.5, -1.5])"
      ]
     },
     "execution_count": 70,
     "metadata": {},
     "output_type": "execute_result"
    }
   ],
   "source": [
    "np.multiply(A,B,out=A)"
   ]
  },
  {
   "cell_type": "code",
   "execution_count": 72,
   "metadata": {},
   "outputs": [
    {
     "name": "stdout",
     "output_type": "stream",
     "text": [
      "[7. 0. 8. 2. 1. 0. 0. 7. 5. 6.]\n"
     ]
    }
   ],
   "source": [
    "#36-1、用五种不同的方法去提取一个随机数组的整数部分\n",
    "Z = np.random.uniform(0,10,10)\n",
    "print(Z - Z%1)"
   ]
  },
  {
   "cell_type": "code",
   "execution_count": 73,
   "metadata": {},
   "outputs": [
    {
     "name": "stdout",
     "output_type": "stream",
     "text": [
      "[7. 0. 8. 2. 1. 0. 0. 7. 5. 6.]\n"
     ]
    }
   ],
   "source": [
    "#36-2、用五种不同的方法去提取一个随机数组的整数部分\n",
    "print(np.floor(Z))"
   ]
  },
  {
   "cell_type": "code",
   "execution_count": 74,
   "metadata": {},
   "outputs": [
    {
     "name": "stdout",
     "output_type": "stream",
     "text": [
      "[7. 0. 8. 2. 1. 0. 0. 7. 5. 6.]\n"
     ]
    }
   ],
   "source": [
    "#36-3、用五种不同的方法去提取一个随机数组的整数部分\n",
    "print(np.ceil(Z)-1)"
   ]
  },
  {
   "cell_type": "code",
   "execution_count": 75,
   "metadata": {},
   "outputs": [
    {
     "name": "stdout",
     "output_type": "stream",
     "text": [
      "[7 0 8 2 1 0 0 7 5 6]\n"
     ]
    }
   ],
   "source": [
    "#36-4、用五种不同的方法去提取一个随机数组的整数部分\n",
    "print(Z.astype(int))"
   ]
  },
  {
   "cell_type": "code",
   "execution_count": 76,
   "metadata": {},
   "outputs": [
    {
     "name": "stdout",
     "output_type": "stream",
     "text": [
      "[7. 0. 8. 2. 1. 0. 0. 7. 5. 6.]\n"
     ]
    }
   ],
   "source": [
    "#36-5、用五种不同的方法去提取一个随机数组的整数部分\n",
    "print(np.trunc(Z))"
   ]
  },
  {
   "cell_type": "code",
   "execution_count": 77,
   "metadata": {},
   "outputs": [
    {
     "name": "stdout",
     "output_type": "stream",
     "text": [
      "[[0. 1. 2. 3. 4.]\n",
      " [0. 1. 2. 3. 4.]\n",
      " [0. 1. 2. 3. 4.]\n",
      " [0. 1. 2. 3. 4.]\n",
      " [0. 1. 2. 3. 4.]]\n"
     ]
    }
   ],
   "source": [
    "#37、创建一个5x5的矩阵，其中每行的数值范围从0到4\n",
    "Z = np.zeros((5,5))\n",
    "Z += np.arange(5)\n",
    "print(Z)"
   ]
  },
  {
   "cell_type": "code",
   "execution_count": 79,
   "metadata": {},
   "outputs": [
    {
     "name": "stdout",
     "output_type": "stream",
     "text": [
      "[0. 1. 2. 3. 4. 5. 6. 7. 8. 9.]\n"
     ]
    }
   ],
   "source": [
    "#38、通过一个可生成10个整数的函数，来构建一个数组\n",
    "def generate():\n",
    "    for x in range(10):\n",
    "        yield x\n",
    "Z = np.fromiter(generate(),dtype=float,count=-1)\n",
    "print(Z)"
   ]
  },
  {
   "cell_type": "code",
   "execution_count": 81,
   "metadata": {},
   "outputs": [
    {
     "name": "stdout",
     "output_type": "stream",
     "text": [
      "[0.09090909 0.18181818 0.27272727 0.36363636 0.45454545 0.54545455\n",
      " 0.63636364 0.72727273 0.81818182 0.90909091]\n"
     ]
    }
   ],
   "source": [
    "#39、创建一个长度为10的随机向量，其值域范围从0到1，但是不包括0和1\n",
    "Z = np.linspace(0,1,11,endpoint=False)[1:]\n",
    "print(Z)"
   ]
  },
  {
   "cell_type": "code",
   "execution_count": 82,
   "metadata": {},
   "outputs": [
    {
     "name": "stdout",
     "output_type": "stream",
     "text": [
      "[0.15393156 0.16518041 0.21338812 0.2260282  0.35475689 0.49085341\n",
      " 0.53257454 0.59824554 0.64087661 0.93622834]\n"
     ]
    }
   ],
   "source": [
    "#40、创建一个长度为10的随机向量，并将其排序\n",
    "Z = np.random.random(10)\n",
    "Z.sort()\n",
    "print(Z)"
   ]
  },
  {
   "cell_type": "code",
   "execution_count": 83,
   "metadata": {},
   "outputs": [
    {
     "data": {
      "text/plain": [
       "45"
      ]
     },
     "execution_count": 83,
     "metadata": {},
     "output_type": "execute_result"
    }
   ],
   "source": [
    "#41、对于一个小数组，如何用比np.sum更快的方式对其求和\n",
    "Z = np.arange(10)\n",
    "np.add.reduce(Z)"
   ]
  },
  {
   "cell_type": "code",
   "execution_count": 85,
   "metadata": {},
   "outputs": [
    {
     "name": "stdout",
     "output_type": "stream",
     "text": [
      "False\n"
     ]
    }
   ],
   "source": [
    "#42-1、对于两个随机数组A和B，检查他们是否相等\n",
    "A = np.random.randint(0,2,5)\n",
    "B = np.random.randint(0,2,5)\n",
    "# Assuming identical shape of the arrays and a tolerance for the comparison of values\n",
    "equal = np.allclose(A,B)\n",
    "print(equal)"
   ]
  },
  {
   "cell_type": "code",
   "execution_count": 87,
   "metadata": {},
   "outputs": [
    {
     "name": "stdout",
     "output_type": "stream",
     "text": [
      "hahah\n"
     ]
    }
   ],
   "source": [
    "print(\"hahah\")"
   ]
  },
  {
   "cell_type": "code",
   "execution_count": 88,
   "metadata": {},
   "outputs": [
    {
     "name": "stdout",
     "output_type": "stream",
     "text": [
      "False\n"
     ]
    }
   ],
   "source": [
    "#42-2、对于两个随机数组A和B，检查他们是否相等\n",
    "equal = np.array_equal(A,B)\n",
    "print(equal)"
   ]
  },
  {
   "cell_type": "code",
   "execution_count": 89,
   "metadata": {},
   "outputs": [
    {
     "ename": "ValueError",
     "evalue": "assignment destination is read-only",
     "output_type": "error",
     "traceback": [
      "\u001b[1;31m---------------------------------------------------------------------------\u001b[0m",
      "\u001b[1;31mValueError\u001b[0m                                Traceback (most recent call last)",
      "\u001b[1;32m<ipython-input-89-915b9badc99c>\u001b[0m in \u001b[0;36m<module>\u001b[1;34m\u001b[0m\n\u001b[0;32m      2\u001b[0m \u001b[0mZ\u001b[0m \u001b[1;33m=\u001b[0m \u001b[0mnp\u001b[0m\u001b[1;33m.\u001b[0m\u001b[0mzeros\u001b[0m\u001b[1;33m(\u001b[0m\u001b[1;36m10\u001b[0m\u001b[1;33m)\u001b[0m\u001b[1;33m\u001b[0m\u001b[1;33m\u001b[0m\u001b[0m\n\u001b[0;32m      3\u001b[0m \u001b[0mZ\u001b[0m\u001b[1;33m.\u001b[0m\u001b[0mflags\u001b[0m\u001b[1;33m.\u001b[0m\u001b[0mwriteable\u001b[0m \u001b[1;33m=\u001b[0m \u001b[1;32mFalse\u001b[0m\u001b[1;33m\u001b[0m\u001b[1;33m\u001b[0m\u001b[0m\n\u001b[1;32m----> 4\u001b[1;33m \u001b[0mZ\u001b[0m\u001b[1;33m[\u001b[0m\u001b[1;36m0\u001b[0m\u001b[1;33m]\u001b[0m\u001b[1;33m=\u001b[0m\u001b[1;36m1\u001b[0m\u001b[1;33m\u001b[0m\u001b[1;33m\u001b[0m\u001b[0m\n\u001b[0m",
      "\u001b[1;31mValueError\u001b[0m: assignment destination is read-only"
     ]
    }
   ],
   "source": [
    "#43、创建一个只读数组（read-only）\n",
    "Z = np.zeros(10)\n",
    "Z.flags.writeable = False\n",
    "Z[0]=1"
   ]
  },
  {
   "cell_type": "code",
   "execution_count": 90,
   "metadata": {},
   "outputs": [
    {
     "name": "stdout",
     "output_type": "stream",
     "text": [
      "[1.20849026 0.52444226 0.83666865 0.53726575 0.9757834  0.75491228\n",
      " 1.16175362 0.88314881 0.88471431 1.10467465]\n",
      "[0.84148868 0.71514012 0.2055119  0.94306203 1.15319016 0.19843909\n",
      " 0.90804728 0.65802541 0.50512447 0.53315169]\n"
     ]
    }
   ],
   "source": [
    "#44、将笛卡尔坐标下的一个10x2的矩阵转换成极坐标形式\n",
    "Z = np.random.random((10,2))\n",
    "X,Y = Z[:,0],Z[:,1]\n",
    "R = np.sqrt(X**2+Y**2)\n",
    "T = np.arctan2(Y,X)\n",
    "print(R)\n",
    "print(T)"
   ]
  },
  {
   "cell_type": "code",
   "execution_count": 2,
   "metadata": {},
   "outputs": [
    {
     "name": "stdout",
     "output_type": "stream",
     "text": [
      "[0.04030433 0.         0.81272864 0.38410634 0.62193631 0.89602331\n",
      " 0.78504319 0.82424554 0.22008387 0.52465788]\n"
     ]
    }
   ],
   "source": [
    "#45、创建一个长度为10的向量，并将向量中最大值替换为1\n",
    "import numpy as np\n",
    "Z = np.random.random(10)\n",
    "Z[Z.argmax()] = 0\n",
    "print(Z)"
   ]
  },
  {
   "cell_type": "code",
   "execution_count": 3,
   "metadata": {},
   "outputs": [
    {
     "name": "stdout",
     "output_type": "stream",
     "text": [
      "[[(0.  , 0.  ) (0.25, 0.  ) (0.5 , 0.  ) (0.75, 0.  ) (1.  , 0.  )]\n",
      " [(0.  , 0.25) (0.25, 0.25) (0.5 , 0.25) (0.75, 0.25) (1.  , 0.25)]\n",
      " [(0.  , 0.5 ) (0.25, 0.5 ) (0.5 , 0.5 ) (0.75, 0.5 ) (1.  , 0.5 )]\n",
      " [(0.  , 0.75) (0.25, 0.75) (0.5 , 0.75) (0.75, 0.75) (1.  , 0.75)]\n",
      " [(0.  , 1.  ) (0.25, 1.  ) (0.5 , 1.  ) (0.75, 1.  ) (1.  , 1.  )]]\n"
     ]
    }
   ],
   "source": [
    "#46、创建一个结构化数组，并实现x和y坐标覆盖[0,1]x[0,1]区域\n",
    "Z = np.zeros((5,5), [('x', float),('y', float)])\n",
    "Z['x'], Z['y'] = np.meshgrid(np.linspace(0,1,5),np.linspace(0,1,5))\n",
    "print(Z)"
   ]
  },
  {
   "cell_type": "code",
   "execution_count": 4,
   "metadata": {},
   "outputs": [
    {
     "name": "stdout",
     "output_type": "stream",
     "text": [
      "3638.1636371179666\n"
     ]
    }
   ],
   "source": [
    "#47、给定两个数组X和Y，构造Cauchy矩阵C(Cij = 1/(xi-yj))\n",
    "X = np.arange(8)\n",
    "Y = X + 0.5\n",
    "C = 1.0 / np.subtract.outer(X,Y)\n",
    "print(np.linalg.det(C))"
   ]
  },
  {
   "cell_type": "code",
   "execution_count": 10,
   "metadata": {},
   "outputs": [
    {
     "name": "stdout",
     "output_type": "stream",
     "text": [
      "-128\n",
      "127\n",
      "-2147483648\n",
      "2147483647\n",
      "-9223372036854775808\n",
      "9223372036854775807\n",
      "-3.4028235e+38\n",
      "3.4028235e+38\n",
      "1.1920929e-07\n",
      "-1.7976931348623157e+308\n",
      "1.7976931348623157e+308\n",
      "2.220446049250313e-16\n"
     ]
    }
   ],
   "source": [
    "#48、打印每个numpy标量类型的最小值和最大值\n",
    "for dtype in [np.int8, np.int32, np.int64]:\n",
    "    print(np.iinfo(dtype).min)\n",
    "    print(np.iinfo(dtype).max)\n",
    "    \n",
    "for dtype in [np.float32, np.float64]:\n",
    "    print(np.finfo(dtype).min)\n",
    "    print(np.finfo(dtype).max)\n",
    "    print(np.finfo(dtype).eps)\n"
   ]
  },
  {
   "cell_type": "code",
   "execution_count": 14,
   "metadata": {},
   "outputs": [
    {
     "name": "stdout",
     "output_type": "stream",
     "text": [
      "[[0. 0. 0. 0. 0. 0. 0. 0. 0. 0. 0. 0. 0. 0. 0. 0.]\n",
      " [0. 0. 0. 0. 0. 0. 0. 0. 0. 0. 0. 0. 0. 0. 0. 0.]\n",
      " [0. 0. 0. 0. 0. 0. 0. 0. 0. 0. 0. 0. 0. 0. 0. 0.]\n",
      " [0. 0. 0. 0. 0. 0. 0. 0. 0. 0. 0. 0. 0. 0. 0. 0.]\n",
      " [0. 0. 0. 0. 0. 0. 0. 0. 0. 0. 0. 0. 0. 0. 0. 0.]\n",
      " [0. 0. 0. 0. 0. 0. 0. 0. 0. 0. 0. 0. 0. 0. 0. 0.]\n",
      " [0. 0. 0. 0. 0. 0. 0. 0. 0. 0. 0. 0. 0. 0. 0. 0.]\n",
      " [0. 0. 0. 0. 0. 0. 0. 0. 0. 0. 0. 0. 0. 0. 0. 0.]\n",
      " [0. 0. 0. 0. 0. 0. 0. 0. 0. 0. 0. 0. 0. 0. 0. 0.]\n",
      " [0. 0. 0. 0. 0. 0. 0. 0. 0. 0. 0. 0. 0. 0. 0. 0.]\n",
      " [0. 0. 0. 0. 0. 0. 0. 0. 0. 0. 0. 0. 0. 0. 0. 0.]\n",
      " [0. 0. 0. 0. 0. 0. 0. 0. 0. 0. 0. 0. 0. 0. 0. 0.]\n",
      " [0. 0. 0. 0. 0. 0. 0. 0. 0. 0. 0. 0. 0. 0. 0. 0.]\n",
      " [0. 0. 0. 0. 0. 0. 0. 0. 0. 0. 0. 0. 0. 0. 0. 0.]\n",
      " [0. 0. 0. 0. 0. 0. 0. 0. 0. 0. 0. 0. 0. 0. 0. 0.]\n",
      " [0. 0. 0. 0. 0. 0. 0. 0. 0. 0. 0. 0. 0. 0. 0. 0.]]\n"
     ]
    }
   ],
   "source": [
    "#49、如何打印一个数组中的所有数值\n",
    "#np.set_printoptions(threshold=np.nan)\n",
    "Z = np.zeros((16,16))\n",
    "print(Z)"
   ]
  },
  {
   "cell_type": "code",
   "execution_count": 15,
   "metadata": {},
   "outputs": [
    {
     "name": "stdout",
     "output_type": "stream",
     "text": [
      "2\n"
     ]
    }
   ],
   "source": [
    "#50、给定标量时，如何找到数组中最接近标量的值\n",
    "Z = np.arange(100)\n",
    "v = np.random.uniform(0,100)\n",
    "index = (np.abs(Z-v).argmin())\n",
    "print (Z[index])"
   ]
  },
  {
   "cell_type": "code",
   "execution_count": 18,
   "metadata": {},
   "outputs": [
    {
     "name": "stdout",
     "output_type": "stream",
     "text": [
      "[((0., 0.), (0., 0., 0.)) ((0., 0.), (0., 0., 0.))\n",
      " ((0., 0.), (0., 0., 0.)) ((0., 0.), (0., 0., 0.))\n",
      " ((0., 0.), (0., 0., 0.)) ((0., 0.), (0., 0., 0.))\n",
      " ((0., 0.), (0., 0., 0.)) ((0., 0.), (0., 0., 0.))\n",
      " ((0., 0.), (0., 0., 0.)) ((0., 0.), (0., 0., 0.))]\n"
     ]
    }
   ],
   "source": [
    "#51、创建一个表示位置（x，y）和颜色（r，g，b）的结构化数组\n",
    "Z = np.zeros(10,[('position', [('x', float, 1),\n",
    "                               ('y', float,1)]),\n",
    "                ('color', [('r', float, 1),\n",
    "                           ('g', float, 1), \n",
    "                           ('b', float, 1)])])\n",
    "print(Z)"
   ]
  },
  {
   "cell_type": "code",
   "execution_count": 19,
   "metadata": {},
   "outputs": [
    {
     "name": "stdout",
     "output_type": "stream",
     "text": [
      "[[0.         0.54037814 0.54681817 0.41697865 0.77389689 0.45338544\n",
      "  0.50074548 0.20803121 0.60364551 0.524361  ]\n",
      " [0.54037814 0.         0.78326588 0.2685468  0.50409617 0.4928308\n",
      "  0.10242847 0.33413864 0.33825291 0.26326923]\n",
      " [0.54681817 0.78326588 0.         0.84241997 1.21274563 0.96833234\n",
      "  0.68651177 0.57227386 1.02541315 0.56479013]\n",
      " [0.41697865 0.2685468  0.84241997 0.         0.37407245 0.22497053\n",
      "  0.32011596 0.27395294 0.19118878 0.46372098]\n",
      " [0.77389689 0.50409617 1.21274563 0.37407245 0.         0.37161833\n",
      "  0.60011702 0.64793993 0.18751101 0.76350769]\n",
      " [0.45338544 0.4928308  0.96833234 0.22497053 0.37161833 0.\n",
      "  0.54252298 0.40975206 0.27073821 0.67661937]\n",
      " [0.50074548 0.10242847 0.68651177 0.32011596 0.60011702 0.54252298\n",
      "  0.         0.29381399 0.42664926 0.16347061]\n",
      " [0.20803121 0.33413864 0.57227386 0.27395294 0.64793993 0.40975206\n",
      "  0.29381399 0.         0.46315687 0.3419408 ]\n",
      " [0.60364551 0.33825291 1.02541315 0.19118878 0.18751101 0.27073821\n",
      "  0.42664926 0.46315687 0.         0.58828917]\n",
      " [0.524361   0.26326923 0.56479013 0.46372098 0.76350769 0.67661937\n",
      "  0.16347061 0.3419408  0.58828917 0.        ]]\n"
     ]
    }
   ],
   "source": [
    "#52-1、对一个表示坐标形状为（100,2）的随机向量，找到点与点的距离\n",
    "Z = np.random.random((10,2))\n",
    "X,Y = np.atleast_2d(Z[:,0],Z[:,1])\n",
    "D = np.sqrt((X-X.T)**2 + (Y-Y.T)**2)\n",
    "print(D)"
   ]
  },
  {
   "cell_type": "code",
   "execution_count": 20,
   "metadata": {},
   "outputs": [
    {
     "name": "stdout",
     "output_type": "stream",
     "text": [
      "[[0.         0.54037814 0.54681817 0.41697865 0.77389689 0.45338544\n",
      "  0.50074548 0.20803121 0.60364551 0.524361  ]\n",
      " [0.54037814 0.         0.78326588 0.2685468  0.50409617 0.4928308\n",
      "  0.10242847 0.33413864 0.33825291 0.26326923]\n",
      " [0.54681817 0.78326588 0.         0.84241997 1.21274563 0.96833234\n",
      "  0.68651177 0.57227386 1.02541315 0.56479013]\n",
      " [0.41697865 0.2685468  0.84241997 0.         0.37407245 0.22497053\n",
      "  0.32011596 0.27395294 0.19118878 0.46372098]\n",
      " [0.77389689 0.50409617 1.21274563 0.37407245 0.         0.37161833\n",
      "  0.60011702 0.64793993 0.18751101 0.76350769]\n",
      " [0.45338544 0.4928308  0.96833234 0.22497053 0.37161833 0.\n",
      "  0.54252298 0.40975206 0.27073821 0.67661937]\n",
      " [0.50074548 0.10242847 0.68651177 0.32011596 0.60011702 0.54252298\n",
      "  0.         0.29381399 0.42664926 0.16347061]\n",
      " [0.20803121 0.33413864 0.57227386 0.27395294 0.64793993 0.40975206\n",
      "  0.29381399 0.         0.46315687 0.3419408 ]\n",
      " [0.60364551 0.33825291 1.02541315 0.19118878 0.18751101 0.27073821\n",
      "  0.42664926 0.46315687 0.         0.58828917]\n",
      " [0.524361   0.26326923 0.56479013 0.46372098 0.76350769 0.67661937\n",
      "  0.16347061 0.3419408  0.58828917 0.        ]]\n"
     ]
    }
   ],
   "source": [
    "#52-2、对一个表示坐标形状为（100,2）的随机向量，找到点与点的距离\n",
    "import scipy\n",
    "import scipy.spatial\n",
    "D = scipy.spatial.distance.cdist(Z,Z)\n",
    "print(D)"
   ]
  },
  {
   "cell_type": "code",
   "execution_count": 21,
   "metadata": {},
   "outputs": [
    {
     "name": "stdout",
     "output_type": "stream",
     "text": [
      "[0. 1. 2. 3. 4. 5. 6. 7. 8. 9.]\n"
     ]
    }
   ],
   "source": [
    "#53、如何将32位浮点数（float）转化成对应的整数（integer）\n",
    "Z = np.arange(10, dtype=np.int32)\n",
    "Z = Z.astype(np.float32, copy=False)\n",
    "print(Z)"
   ]
  },
  {
   "cell_type": "code",
   "execution_count": 23,
   "metadata": {},
   "outputs": [
    {
     "name": "stdout",
     "output_type": "stream",
     "text": [
      "(0, 0) 0\n",
      "(0, 1) 1\n",
      "(0, 2) 2\n",
      "(1, 0) 3\n",
      "(1, 1) 4\n",
      "(1, 2) 5\n",
      "(2, 0) 6\n",
      "(2, 1) 7\n",
      "(2, 2) 8\n",
      "(0, 0) 0\n",
      "(0, 1) 1\n",
      "(0, 2) 2\n",
      "(1, 0) 3\n",
      "(1, 1) 4\n",
      "(1, 2) 5\n",
      "(2, 0) 6\n",
      "(2, 1) 7\n",
      "(2, 2) 8\n"
     ]
    }
   ],
   "source": [
    "#54、如何读取以下文件\n",
    "#55、对于numpy数组，enumerate的等价操作是什么\n",
    "Z = np.arange(9).reshape(3,3)\n",
    "for index, value in np.ndenumerate(Z):\n",
    "    print(index, value)\n",
    "for index in np.ndindex(Z.shape):\n",
    "    print(index,Z[index])"
   ]
  },
  {
   "cell_type": "code",
   "execution_count": 24,
   "metadata": {},
   "outputs": [
    {
     "name": "stdout",
     "output_type": "stream",
     "text": [
      "[[0.36787944 0.44822088 0.51979489 0.57375342 0.60279818 0.60279818\n",
      "  0.57375342 0.51979489 0.44822088 0.36787944]\n",
      " [0.44822088 0.54610814 0.63331324 0.69905581 0.73444367 0.73444367\n",
      "  0.69905581 0.63331324 0.54610814 0.44822088]\n",
      " [0.51979489 0.63331324 0.73444367 0.81068432 0.85172308 0.85172308\n",
      "  0.81068432 0.73444367 0.63331324 0.51979489]\n",
      " [0.57375342 0.69905581 0.81068432 0.89483932 0.9401382  0.9401382\n",
      "  0.89483932 0.81068432 0.69905581 0.57375342]\n",
      " [0.60279818 0.73444367 0.85172308 0.9401382  0.98773022 0.98773022\n",
      "  0.9401382  0.85172308 0.73444367 0.60279818]\n",
      " [0.60279818 0.73444367 0.85172308 0.9401382  0.98773022 0.98773022\n",
      "  0.9401382  0.85172308 0.73444367 0.60279818]\n",
      " [0.57375342 0.69905581 0.81068432 0.89483932 0.9401382  0.9401382\n",
      "  0.89483932 0.81068432 0.69905581 0.57375342]\n",
      " [0.51979489 0.63331324 0.73444367 0.81068432 0.85172308 0.85172308\n",
      "  0.81068432 0.73444367 0.63331324 0.51979489]\n",
      " [0.44822088 0.54610814 0.63331324 0.69905581 0.73444367 0.73444367\n",
      "  0.69905581 0.63331324 0.54610814 0.44822088]\n",
      " [0.36787944 0.44822088 0.51979489 0.57375342 0.60279818 0.60279818\n",
      "  0.57375342 0.51979489 0.44822088 0.36787944]]\n"
     ]
    }
   ],
   "source": [
    "#56、生成一个通用的二维Gaussian-like数组\n",
    "X,Y = np.meshgrid(np.linspace(-1,1,10), np.linspace(-1,1,10))\n",
    "D = np.sqrt(X*X+Y*Y)\n",
    "sigma, mu = 1.0,0.0\n",
    "G = np.exp(-((D-mu)**2 / (2.0 * sigma**2 )))\n",
    "print(G)"
   ]
  },
  {
   "cell_type": "code",
   "execution_count": 25,
   "metadata": {},
   "outputs": [
    {
     "name": "stdout",
     "output_type": "stream",
     "text": [
      "[[0. 0. 0. 0. 0. 0. 0. 0. 0. 0.]\n",
      " [0. 1. 0. 0. 0. 0. 0. 0. 0. 0.]\n",
      " [0. 0. 0. 0. 0. 0. 0. 0. 0. 0.]\n",
      " [0. 0. 0. 0. 0. 0. 0. 0. 0. 0.]\n",
      " [0. 0. 1. 0. 0. 0. 0. 0. 0. 0.]\n",
      " [0. 0. 0. 0. 0. 0. 0. 0. 0. 0.]\n",
      " [1. 0. 0. 0. 0. 0. 0. 0. 0. 0.]\n",
      " [0. 0. 0. 0. 0. 0. 0. 0. 0. 0.]\n",
      " [0. 0. 0. 0. 0. 0. 0. 0. 0. 0.]\n",
      " [0. 0. 0. 0. 0. 0. 0. 0. 0. 0.]]\n"
     ]
    }
   ],
   "source": [
    "#57、对一个二维数组，如何在其内部随机放置p个元素\n",
    "n = 10\n",
    "p = 3\n",
    "Z = np.zeros((n,n))\n",
    "np.put(Z, np.random.choice(range(n*n), p, replace=False), 1)\n",
    "print(Z)"
   ]
  },
  {
   "cell_type": "code",
   "execution_count": 2,
   "metadata": {},
   "outputs": [
    {
     "name": "stdout",
     "output_type": "stream",
     "text": [
      "[[-0.02931915 -0.23612849  0.23530035 -0.48922374 -0.50624271  0.39786933\n",
      "  -0.16856897  0.15579532  0.33144132  0.30907672]\n",
      " [ 0.16597263 -0.31264817 -0.345387   -0.25383444  0.42984103 -0.43736818\n",
      "   0.39714269  0.41932828 -0.05909884 -0.00394799]\n",
      " [ 0.48590733  0.45074104 -0.0369014  -0.05925886 -0.06405748  0.17649028\n",
      "  -0.31273559 -0.31163596 -0.3540483   0.02549893]\n",
      " [-0.00791475  0.16561471 -0.18498766  0.48016713  0.15342166 -0.37985854\n",
      "   0.07162789  0.14576662 -0.35445045 -0.0893866 ]\n",
      " [-0.2439242  -0.42732876  0.40553042  0.14526141  0.03423515 -0.43398531\n",
      "   0.42442975  0.33504585 -0.49926744  0.26000313]]\n"
     ]
    }
   ],
   "source": [
    "#58-1、减去一个矩阵中的每一行的平均值\n",
    "import numpy as np\n",
    "X = np.random.rand(5, 10)\n",
    "Y = X - X.mean(axis=1,keepdims=True)\n",
    "print(Y)"
   ]
  },
  {
   "cell_type": "code",
   "execution_count": 3,
   "metadata": {},
   "outputs": [
    {
     "name": "stdout",
     "output_type": "stream",
     "text": [
      "[[ 0.25830265 -0.0487032  -0.10840293 -0.49766784  0.36483154  0.01224584\n",
      "  -0.00870851  0.20484203  0.3828125  -0.55955209]\n",
      " [ 0.23632975 -0.40377294 -0.35538515  0.06422805  0.12968176  0.2480323\n",
      "   0.41964686 -0.3632154   0.45381014 -0.42935538]\n",
      " [-0.23704596 -0.53429243  0.22946194 -0.02671197  0.18011024  0.26409657\n",
      "   0.22977399  0.0781611  -0.28117867  0.09762521]\n",
      " [-0.39058023 -0.25881023  0.41049257 -0.10543404  0.15223103  0.41203949\n",
      "   0.19743196  0.11846418 -0.11990269 -0.41593204]\n",
      " [ 0.36527113  0.29927716 -0.17143468 -0.5875066  -0.61384387  0.18789119\n",
      "   0.04829213  0.25647983 -0.06412003  0.27969374]]\n"
     ]
    }
   ],
   "source": [
    "#58-2、减去一个矩阵中的每一行的平均值\n",
    "X = np.random.rand(5, 10)\n",
    "Y = X - X.mean(axis=1).reshape(-1,1)\n",
    "print(Y)"
   ]
  },
  {
   "cell_type": "code",
   "execution_count": 4,
   "metadata": {},
   "outputs": [
    {
     "name": "stdout",
     "output_type": "stream",
     "text": [
      "[[2 9 4]\n",
      " [5 5 5]\n",
      " [4 0 6]]\n",
      "[[4 0 6]\n",
      " [5 5 5]\n",
      " [2 9 4]]\n"
     ]
    }
   ],
   "source": [
    "#59、如何通过后台第n列对一个数组进行排序排序 \n",
    "Z = np.random.randint(0,10,(3,3))\n",
    "print(Z)\n",
    "print(Z[Z[:,1].argsort()])"
   ]
  },
  {
   "cell_type": "code",
   "execution_count": 6,
   "metadata": {},
   "outputs": [
    {
     "name": "stdout",
     "output_type": "stream",
     "text": [
      "True\n"
     ]
    }
   ],
   "source": [
    "#60、如何检查一个二维数组是否有空列\n",
    "Z = np.random.randint(0,3,(3,10))\n",
    "print((~Z.any(axis=0)).any())"
   ]
  },
  {
   "cell_type": "code",
   "execution_count": 8,
   "metadata": {},
   "outputs": [
    {
     "name": "stdout",
     "output_type": "stream",
     "text": [
      "0.553569385417081\n"
     ]
    }
   ],
   "source": [
    "#61、从数组中的给定值中找出最近的值\n",
    "Z = np.random.uniform(0,1,10)\n",
    "z = 0.5\n",
    "m = Z.flat[np.abs(Z-z).argmin()]\n",
    "print(m)"
   ]
  },
  {
   "cell_type": "raw",
   "metadata": {},
   "source": []
  },
  {
   "cell_type": "code",
   "execution_count": 4,
   "metadata": {},
   "outputs": [
    {
     "name": "stdout",
     "output_type": "stream",
     "text": [
      "[[0 1 2]\n",
      " [1 2 3]\n",
      " [2 3 4]]\n"
     ]
    }
   ],
   "source": [
    "#62、如何使用迭代器Iterator，计算两个分别具有形状（1,3）和（3,1）的数组\n",
    "import numpy as np\n",
    "A = np.arange(3).reshape(3,1)\n",
    "B = np.arange(3).reshape(1,3)\n",
    "it = np.nditer([A,B,None])\n",
    "for x,y,z in it:\n",
    "    z[...] = x+y\n",
    "print (it.operands[2])"
   ]
  },
  {
   "cell_type": "code",
   "execution_count": 9,
   "metadata": {},
   "outputs": [
    {
     "name": "stdout",
     "output_type": "stream",
     "text": [
      "range_10\n"
     ]
    }
   ],
   "source": [
    "#63、创建一个具有name属性的数组类\n",
    "class NamedArray(np.ndarray):\n",
    "    def __new__(cls,array,name=\"no name\"):\n",
    "        obj = np.asarray(array).view(cls)\n",
    "        obj.name = name\n",
    "        return obj\n",
    "    def __array_finalize__(self,obj):\n",
    "        if obj is None: return\n",
    "        self.info = getattr(obj,'name',\"no name\")\n",
    "    \n",
    "Z = NamedArray(np.arange(10), \"range_10\")\n",
    "print(Z.name)"
   ]
  },
  {
   "cell_type": "code",
   "execution_count": 10,
   "metadata": {},
   "outputs": [
    {
     "name": "stdout",
     "output_type": "stream",
     "text": [
      "[3. 2. 4. 2. 5. 3. 3. 4. 3. 1.]\n"
     ]
    }
   ],
   "source": [
    "#64-1、考虑一个给定的向量，如何对由第二个向量索引的每个元素加1（小心重复的索引）\n",
    "Z = np.ones(10)\n",
    "I = np.random.randint(0,len(Z),20)\n",
    "Z += np.bincount(I,minlength=len(Z))\n",
    "print(Z)"
   ]
  },
  {
   "cell_type": "code",
   "execution_count": 12,
   "metadata": {},
   "outputs": [
    {
     "name": "stdout",
     "output_type": "stream",
     "text": [
      "[3. 2. 3. 5. 2. 3. 4. 1. 5. 2.]\n"
     ]
    }
   ],
   "source": [
    "#64-2、\n",
    "Z = np.ones(10)\n",
    "I = np.random.randint(0,len(Z),20)\n",
    "np.add.at(Z,I,1)\n",
    "print(Z)"
   ]
  },
  {
   "cell_type": "code",
   "execution_count": 13,
   "metadata": {},
   "outputs": [
    {
     "name": "stdout",
     "output_type": "stream",
     "text": [
      "[0. 7. 0. 6. 5. 0. 0. 0. 0. 3.]\n"
     ]
    }
   ],
   "source": [
    "#65、根据索引列表（I）如何将向量X的元素累加到数组F\n",
    "X = [1,2,3,4,5,6]\n",
    "I = [1,3,9,3,4,1]\n",
    "F = np.bincount(I,X)\n",
    "print(F)"
   ]
  },
  {
   "cell_type": "code",
   "execution_count": 14,
   "metadata": {},
   "outputs": [
    {
     "name": "stdout",
     "output_type": "stream",
     "text": [
      "8\n"
     ]
    }
   ],
   "source": [
    "#66、考虑一个dtype=ubyte的（v,h,3）图像，计算其唯一颜色的数量\n",
    "w,h = 16,16\n",
    "I = np.random.randint(0,2,(h,w,3)).astype(np.ubyte)\n",
    "F = I[...,0]*(256*256) + I[...,1]*256 + I[...,2]\n",
    "n = len(np.unique(F))\n",
    "print(n)"
   ]
  },
  {
   "cell_type": "code",
   "execution_count": 15,
   "metadata": {},
   "outputs": [
    {
     "name": "stdout",
     "output_type": "stream",
     "text": [
      "[[64 48 40 73]\n",
      " [48 65 65 53]\n",
      " [64 48 53 62]]\n"
     ]
    }
   ],
   "source": [
    "#67-1、考虑一个四维数组，如何一次性计算出最后两个轴axis的和？\n",
    "A = np.random.randint(0,10,(3,4,3,4))\n",
    "sum = A.sum(axis=(-2,-1))\n",
    "print(sum)"
   ]
  },
  {
   "cell_type": "code",
   "execution_count": 16,
   "metadata": {},
   "outputs": [
    {
     "name": "stdout",
     "output_type": "stream",
     "text": [
      "[[42 40 52 34]\n",
      " [78 55 44 49]\n",
      " [60 62 62 63]]\n"
     ]
    }
   ],
   "source": [
    "#67-2、\n",
    "A = np.random.randint(0,10,(3,4,3,4))\n",
    "sum = A.reshape(A.shape[:-2] + (-1,)).sum(axis=-1)\n",
    "print(sum)"
   ]
  },
  {
   "cell_type": "code",
   "execution_count": 17,
   "metadata": {},
   "outputs": [
    {
     "name": "stdout",
     "output_type": "stream",
     "text": [
      "[0.43359865 0.58126245 0.59662447 0.57848347 0.55590797 0.5865165\n",
      " 0.60191238 0.37702036 0.41663639 0.49511848]\n"
     ]
    }
   ],
   "source": [
    "#68-1、考虑一个一维向量D，如何使用相同大小的向量S来计算D子集的均值\n",
    "D = np.random.uniform(0,1,100)\n",
    "S = np.random.randint(0,10,100)\n",
    "D_sums = np.bincount(S, weights=D)\n",
    "D_counts = np.bincount(S)\n",
    "D_means = D_sums / D_counts\n",
    "print(D_means)"
   ]
  },
  {
   "cell_type": "code",
   "execution_count": 18,
   "metadata": {},
   "outputs": [
    {
     "name": "stdout",
     "output_type": "stream",
     "text": [
      "0    0.520996\n",
      "1    0.379036\n",
      "2    0.464967\n",
      "3    0.583509\n",
      "4    0.502238\n",
      "5    0.428226\n",
      "6    0.550832\n",
      "7    0.502225\n",
      "8    0.445889\n",
      "9    0.495046\n",
      "dtype: float64\n"
     ]
    }
   ],
   "source": [
    "#68-2、\n",
    "import pandas as pd\n",
    "D = np.random.uniform(0,1,100)\n",
    "S = np.random.randint(0,10,100)\n",
    "print(pd.Series(D).groupby(S).mean())"
   ]
  },
  {
   "cell_type": "code",
   "execution_count": 20,
   "metadata": {},
   "outputs": [
    {
     "data": {
      "text/plain": [
       "array([1.73103542, 0.56667001, 1.64009581, 0.92075014, 1.94139769])"
      ]
     },
     "execution_count": 20,
     "metadata": {},
     "output_type": "execute_result"
    }
   ],
   "source": [
    "#69-1、如何获得点积dot product的对角线\n",
    "A = np.random.uniform(0,1,(5,5))\n",
    "B = np.random.uniform(0,1,(5,5))\n",
    "np.diag(np.dot(A,B))"
   ]
  },
  {
   "cell_type": "code",
   "execution_count": 21,
   "metadata": {},
   "outputs": [
    {
     "data": {
      "text/plain": [
       "array([1.13461663, 1.12808653, 2.28654622, 2.10613823, 1.60931998])"
      ]
     },
     "execution_count": 21,
     "metadata": {},
     "output_type": "execute_result"
    }
   ],
   "source": [
    "#69-2、\n",
    "A = np.random.uniform(0,1,(5,5))\n",
    "B = np.random.uniform(0,1,(5,5))\n",
    "np.sum(A * B.T, axis=1)"
   ]
  },
  {
   "cell_type": "code",
   "execution_count": 23,
   "metadata": {},
   "outputs": [
    {
     "data": {
      "text/plain": [
       "array([0.45788217, 1.89466165, 1.44754843, 1.32966618, 1.10442212])"
      ]
     },
     "execution_count": 23,
     "metadata": {},
     "output_type": "execute_result"
    }
   ],
   "source": [
    "#69-3、\n",
    "A = np.random.uniform(0,1,(5,5))\n",
    "B = np.random.uniform(0,1,(5,5))\n",
    "np.einsum(\"ij,ji->i\", A, B)"
   ]
  },
  {
   "cell_type": "code",
   "execution_count": null,
   "metadata": {},
   "outputs": [],
   "source": [
    "#70、考虑"
   ]
  },
  {
   "cell_type": "code",
   "execution_count": 24,
   "metadata": {},
   "outputs": [
    {
     "name": "stdout",
     "output_type": "stream",
     "text": [
      "[1. 0. 0. 0. 2. 0. 0. 0. 3. 0. 0. 0. 4. 0. 0. 0. 5.]\n"
     ]
    }
   ],
   "source": [
    "#70、考虑一个向量[1,2,3,4,5]如何建立一个新的向量，在这个新向量中每个值之间有3个连续的0\n",
    "Z = np.array([1,2,3,4,5])\n",
    "nz = 3\n",
    "Z0 = np.zeros(len(Z) + (len(Z)-1)*(nz))\n",
    "Z0[::nz+1] = Z\n",
    "print(Z0)"
   ]
  },
  {
   "cell_type": "code",
   "execution_count": 26,
   "metadata": {},
   "outputs": [
    {
     "name": "stdout",
     "output_type": "stream",
     "text": [
      "[[[2. 2. 2.]\n",
      "  [2. 2. 2.]\n",
      "  [2. 2. 2.]\n",
      "  [2. 2. 2.]\n",
      "  [2. 2. 2.]]\n",
      "\n",
      " [[2. 2. 2.]\n",
      "  [2. 2. 2.]\n",
      "  [2. 2. 2.]\n",
      "  [2. 2. 2.]\n",
      "  [2. 2. 2.]]\n",
      "\n",
      " [[2. 2. 2.]\n",
      "  [2. 2. 2.]\n",
      "  [2. 2. 2.]\n",
      "  [2. 2. 2.]\n",
      "  [2. 2. 2.]]\n",
      "\n",
      " [[2. 2. 2.]\n",
      "  [2. 2. 2.]\n",
      "  [2. 2. 2.]\n",
      "  [2. 2. 2.]\n",
      "  [2. 2. 2.]]\n",
      "\n",
      " [[2. 2. 2.]\n",
      "  [2. 2. 2.]\n",
      "  [2. 2. 2.]\n",
      "  [2. 2. 2.]\n",
      "  [2. 2. 2.]]]\n"
     ]
    }
   ],
   "source": [
    "#71、考虑一个维度（5,5,3）的数组，如何将其与一个（5,5）的数组相乘\n",
    "A = np.ones((5,5,3))\n",
    "B = 2*np.ones((5,5))\n",
    "print(A*B[:, :, None])"
   ]
  },
  {
   "cell_type": "code",
   "execution_count": 27,
   "metadata": {},
   "outputs": [
    {
     "name": "stdout",
     "output_type": "stream",
     "text": [
      "[[ 5  6  7  8  9]\n",
      " [ 0  1  2  3  4]\n",
      " [10 11 12 13 14]\n",
      " [15 16 17 18 19]\n",
      " [20 21 22 23 24]]\n"
     ]
    }
   ],
   "source": [
    "#72、如何对一个数组中任意两行作交换\n",
    "A = np.arange(25).reshape(5,5)\n",
    "A[[0,1]] = A[[1,0]]\n",
    "print(A)"
   ]
  },
  {
   "cell_type": "code",
   "execution_count": 29,
   "metadata": {},
   "outputs": [
    {
     "name": "stdout",
     "output_type": "stream",
     "text": [
      "[( 5, 19) ( 5, 75) ( 8, 71) ( 8, 88) (12, 21) (12, 43) (15, 24) (15, 30)\n",
      " (16, 48) (16, 51) (16, 83) (16, 96) (19, 75) (21, 34) (21, 43) (21, 53)\n",
      " (24, 30) (29, 46) (29, 53) (34, 53) (35, 47) (35, 53) (46, 53) (47, 53)\n",
      " (48, 51) (51, 62) (51, 86) (62, 86) (71, 88) (83, 96)]\n"
     ]
    }
   ],
   "source": [
    "#73、考虑一个可以描述10个三角形的triplets，找到可 的以分割全部lines segment\n",
    "faces = np.random.randint(0,100,(10,3))\n",
    "F = np.roll(faces.repeat(2,axis=1),-1,axis=1)\n",
    "F = F.reshape(len(F)*3,2)\n",
    "F = np.sort(F,axis=1)\n",
    "G = F.view(dtype=[('p0',F.dtype),('pt',F.dtype)])\n",
    "G = np.unique(G)\n",
    "print(G)"
   ]
  },
  {
   "cell_type": "code",
   "execution_count": 30,
   "metadata": {},
   "outputs": [
    {
     "name": "stdout",
     "output_type": "stream",
     "text": [
      "[1 1 2 3 4 4 6]\n"
     ]
    }
   ],
   "source": [
    "#74、给定一个二进制的数组C，如何产生一个数组A满足np.bincount(A)=C\n",
    "C = np.bincount([1,1,2,3,4,4,6])\n",
    "A = np.repeat(np.arange(len(C)),C)\n",
    "print(A)"
   ]
  },
  {
   "cell_type": "code",
   "execution_count": 31,
   "metadata": {},
   "outputs": [
    {
     "name": "stdout",
     "output_type": "stream",
     "text": [
      "[ 1.  2.  3.  4.  5.  6.  7.  8.  9. 10. 11. 12. 13. 14. 15. 16. 17. 18.]\n"
     ]
    }
   ],
   "source": [
    "#75、如何通过滑动窗口计算一个数组的额平均值\n",
    "def moving_average(a,n=3):\n",
    "    ret = np.cumsum(a, dtype=float)\n",
    "    ret[n:] = ret[n:] - ret[:-n]\n",
    "    return ret[n - 1:] /n\n",
    "Z = np.arange(20)\n",
    "print(moving_average(Z, n=3))"
   ]
  },
  {
   "cell_type": "code",
   "execution_count": 32,
   "metadata": {},
   "outputs": [
    {
     "name": "stdout",
     "output_type": "stream",
     "text": [
      "[[0 1 2]\n",
      " [1 2 3]\n",
      " [2 3 4]\n",
      " [3 4 5]\n",
      " [4 5 6]\n",
      " [5 6 7]\n",
      " [6 7 8]\n",
      " [7 8 9]]\n"
     ]
    }
   ],
   "source": [
    "#76、\n",
    "from numpy.lib import stride_tricks\n",
    "def rolling(a,window):\n",
    "    shape = (a.size - window + 1, window)\n",
    "    strides = (a.itemsize, a.itemsize)\n",
    "    return stride_tricks.as_strided(a,shape=shape,strides=strides)\n",
    "Z = rolling(np.arange(10),3)\n",
    "print(Z)"
   ]
  },
  {
   "cell_type": "code",
   "execution_count": 34,
   "metadata": {},
   "outputs": [
    {
     "data": {
      "text/plain": [
       "array([0, 0, 1, 0, 1, 0, 0, 1, 1, 0, 1, 0, 0, 0, 1, 1, 0, 1, 0, 1, 1, 0,\n",
       "       0, 0, 1, 1, 0, 1, 1, 1, 1, 0, 1, 1, 0, 0, 0, 1, 0, 1, 1, 1, 0, 0,\n",
       "       1, 1, 0, 1, 1, 0, 1, 0, 0, 1, 1, 1, 1, 0, 1, 1, 1, 1, 1, 0, 0, 0,\n",
       "       0, 0, 0, 0, 0, 0, 0, 0, 0, 0, 1, 0, 1, 0, 1, 0, 0, 1, 1, 1, 0, 0,\n",
       "       0, 0, 1, 1, 0, 0, 1, 1, 1, 0, 1, 0])"
      ]
     },
     "execution_count": 34,
     "metadata": {},
     "output_type": "execute_result"
    }
   ],
   "source": [
    "#77-1、如何对布尔值取反，或者原位in-place改变浮点数的符号sign\n",
    "Z = np.random.randint(0,2,100)\n",
    "np.logical_not(Z,out=Z)"
   ]
  },
  {
   "cell_type": "code",
   "execution_count": 37,
   "metadata": {},
   "outputs": [
    {
     "data": {
      "text/plain": [
       "array([-0.17567416,  0.49867921,  0.45936945,  0.30945508,  0.53197357,\n",
       "        0.74706123, -0.33136624,  0.221245  ,  0.5215681 ,  0.51960492,\n",
       "       -0.77069002, -0.24047426, -0.78585632,  0.12073899, -0.65533363,\n",
       "        0.65460666, -0.35005168, -0.54855166,  0.87694331,  0.35528866,\n",
       "        0.11587053, -0.75903998, -0.26477185, -0.23364792,  0.5735859 ,\n",
       "       -0.99751617,  0.75474602,  0.16276545, -0.96365976,  0.20257708,\n",
       "        0.85338746, -0.74019161,  0.69331925,  0.4142953 , -0.34328922,\n",
       "        0.86683603, -0.86760123, -0.15744318, -0.93846178, -0.4668215 ,\n",
       "       -0.51672764, -0.7144875 ,  0.08068035, -0.06670901,  0.30315084,\n",
       "       -0.33193831, -0.44693013,  0.23073287, -0.77598527, -0.56991125,\n",
       "        0.60338296,  0.70713594, -0.83148529, -0.43579859, -0.02894772,\n",
       "        0.5050578 ,  0.13003907,  0.4602273 ,  0.52364101, -0.6529413 ,\n",
       "        0.95186222, -0.22335725, -0.7152786 , -0.88524325, -0.3073258 ,\n",
       "        0.62102571,  0.76473447,  0.10598436,  0.01274656,  0.38817302,\n",
       "        0.5292928 ,  0.00542809, -0.78261271, -0.33133221, -0.44436094,\n",
       "       -0.14652937, -0.09373018,  0.6970181 , -0.04802681,  0.19755474,\n",
       "       -0.60555902,  0.20128462, -0.11002753,  0.55845473,  0.1621909 ,\n",
       "        0.46145336, -0.12857453, -0.99694621, -0.88879255,  0.36946894,\n",
       "        0.90405   ,  0.91946384, -0.28679951,  0.11766978, -0.27405867,\n",
       "       -0.35854904,  0.39989528,  0.58214482, -0.25197093, -0.40483829])"
      ]
     },
     "execution_count": 37,
     "metadata": {},
     "output_type": "execute_result"
    }
   ],
   "source": [
    "#77-2、\n",
    "Z = np.random.uniform(-1.0,1.0,100)\n",
    "np.negative(Z, out=Z)"
   ]
  },
  {
   "cell_type": "code",
   "execution_count": 42,
   "metadata": {},
   "outputs": [
    {
     "name": "stdout",
     "output_type": "stream",
     "text": [
      "[ 8.9009738  13.67012213 24.5051011  16.43389867 25.97291257  1.54027601\n",
      "  3.12453692 12.65153908  8.66729096 19.1218496 ]\n"
     ]
    }
   ],
   "source": [
    "#78、考虑两组点集P0和P1去描述一组线（二维）和一个点p，如何计算点p到每一条线i（p0[i],p1[i]）的距离\n",
    "def distance(p0, p1, p):\n",
    "    T = p1 - p0\n",
    "    L = (T**2).sum(axis=1)\n",
    "    U = -((p0[:,0]-p[...,0])*T[:,0] + (p0[:,1]-p[...,1])*T[:,1]) / L\n",
    "    U = U.reshape(len(U),1)\n",
    "    D = p0 + U*T - p\n",
    "    return np.sqrt(D**2).sum(axis=1)\n",
    "\n",
    "p0 = np.random.uniform(-10,10,(10,2))\n",
    "p1 = np.random.uniform(-10,10,(10,2))\n",
    "p = np.random.uniform(-10,10,(1,2))\n",
    "\n",
    "print(distance(p0,p1,p))"
   ]
  },
  {
   "cell_type": "code",
   "execution_count": 43,
   "metadata": {},
   "outputs": [
    {
     "name": "stdout",
     "output_type": "stream",
     "text": [
      "[[ 8.12930469  5.38771074  6.54229866  6.70896676  1.60178167 12.55719288\n",
      "   5.22239424 13.1103878  17.14706615 14.78394022]\n",
      " [ 9.86314153  6.54166297  5.64018878  8.70057131  0.5061174  11.76884404\n",
      "   6.24496639 11.12924005 16.82969696 13.53279053]\n",
      " [ 1.62176909  4.91445863  4.62541552  1.62604012  8.55102961  0.71584795\n",
      "   4.8949401  13.65112285  3.62562379  7.18106702]\n",
      " [ 5.52652863  7.98104578  4.58659203  5.75968535 12.69629514  0.4943189\n",
      "   7.73362922 16.81206785  2.46226424  8.20250859]\n",
      " [ 6.56839679  9.31623484  6.77856225  6.47402454 13.13713493  1.7717074\n",
      "   9.08313988 16.21792956  0.07629402  6.48993355]\n",
      " [ 9.94623193  1.22131485 17.30404037 12.83688839  7.52424186 11.21765006\n",
      "   0.13708679  3.91403186  4.76832328  7.16946886]\n",
      " [17.57735927  9.46142196  7.80725054 19.22623696 12.73402844  1.19210384\n",
      "   8.25836749  3.84307987  6.52690543  0.53716338]\n",
      " [ 0.58886282  7.96954192 25.05853586  4.31571196  0.03917637 19.61240579\n",
      "   8.77534248  1.46151556 14.95202553 11.79522525]\n",
      " [ 1.20153919  6.1849991  19.51205118  3.98455132  1.06588552 14.01350109\n",
      "   6.83713966  1.6668886   9.53651982  6.95056193]\n",
      " [ 2.7895857   7.07789412  9.92319298  1.92547082  8.18710684  4.67085717\n",
      "   7.17133928 11.13084832  1.72608718  2.70082459]]\n"
     ]
    }
   ],
   "source": [
    "#79、考虑两组点集p0和p1去描述一组线（二维）和一组点集p，如何计算每一个点j(p[j])到每一条线i(p0[i],p1[i])的距离\n",
    "p0 = np.random.uniform(-10,10,(10,2))\n",
    "p1 = np.random.uniform(-10,10,(10,2))\n",
    "p = np.random.uniform(-10,10,(10,2))\n",
    "print(np.array([distance(p0,p1,p_i) for p_i in p]))"
   ]
  },
  {
   "cell_type": "code",
   "execution_count": 48,
   "metadata": {},
   "outputs": [
    {
     "name": "stdout",
     "output_type": "stream",
     "text": [
      "[[9 8 2 3 8 9 1 3 5 6]\n",
      " [5 6 7 7 7 4 7 2 2 3]\n",
      " [6 3 7 4 4 4 3 7 3 1]\n",
      " [2 4 7 7 1 2 4 8 5 6]\n",
      " [6 8 7 7 9 7 1 7 3 8]\n",
      " [5 9 3 2 9 2 5 4 6 9]\n",
      " [2 6 8 7 5 4 7 4 7 7]\n",
      " [7 9 9 9 9 3 9 6 7 6]\n",
      " [7 8 0 9 0 4 3 2 6 4]\n",
      " [5 2 7 3 1 2 8 9 9 4]]\n",
      "[[0 0 0 0 0]\n",
      " [0 9 8 2 3]\n",
      " [0 5 6 7 7]\n",
      " [0 6 3 7 4]\n",
      " [0 2 4 7 7]]\n"
     ]
    },
    {
     "name": "stderr",
     "output_type": "stream",
     "text": [
      "D:\\git\\Anaconda3\\lib\\site-packages\\ipykernel_launcher.py:25: FutureWarning: Using a non-tuple sequence for multidimensional indexing is deprecated; use `arr[tuple(seq)]` instead of `arr[seq]`. In the future this will be interpreted as an array index, `arr[np.array(seq)]`, which will result either in an error or a different result.\n"
     ]
    }
   ],
   "source": [
    "#80、\n",
    "\n",
    "Z = np.random.randint(0,10,(10,10)) \n",
    "shape = (5,5)\n",
    "fill = 0\n",
    "position = (1,1)\n",
    "\n",
    "R = np.ones(shape, dtype=Z.dtype)*fill\n",
    "P = np.array(list(position)).astype(int)\n",
    "Rs = np.array(list(R.shape)).astype(int)\n",
    "Zs = np.array(list(Z.shape)).astype(int)\n",
    "\n",
    "R_start = np.zeros((len(shape),)).astype(int)\n",
    "R_stop = np.array(list(shape)).astype(int)\n",
    "Z_start = (P-Rs//2)\n",
    "Z_stop = (P+Rs//2)+Rs%2\n",
    "\n",
    "R_start = (R_start - np.minimum(Z_start,0)).tolist()\n",
    "Z_start = (np.maximum(Z_start,0)).tolist()\n",
    "R_stop = np.maximum(R_start,(R_stop - np.maximum(Z_stop-Zs,0))).tolist()\n",
    "Z_stop = (np.minimum(Z_stop,Zs)).tolist()\n",
    "\n",
    "r = [slice(start,stop) for start,stop in zip(R_start,R_stop)]\n",
    "z = [slice(start,stop) for start,stop in zip(Z_start,Z_stop)]\n",
    "R[r] = Z[z]\n",
    "print (Z)\n",
    "print (R)\n"
   ]
  },
  {
   "cell_type": "code",
   "execution_count": 49,
   "metadata": {},
   "outputs": [
    {
     "name": "stdout",
     "output_type": "stream",
     "text": [
      "[[ 1  2  3  4]\n",
      " [ 2  3  4  5]\n",
      " [ 3  4  5  6]\n",
      " [ 4  5  6  7]\n",
      " [ 5  6  7  8]\n",
      " [ 6  7  8  9]\n",
      " [ 7  8  9 10]\n",
      " [ 8  9 10 11]\n",
      " [ 9 10 11 12]\n",
      " [10 11 12 13]\n",
      " [11 12 13 14]]\n"
     ]
    }
   ],
   "source": [
    "#81、简言之，就是把数组分开\n",
    "Z = np.arange(1,15,dtype=np.uint32)\n",
    "R = stride_tricks.as_strided(Z,(11,4),(4,4))\n",
    "print(R)"
   ]
  },
  {
   "cell_type": "code",
   "execution_count": 3,
   "metadata": {},
   "outputs": [
    {
     "name": "stdout",
     "output_type": "stream",
     "text": [
      "10\n"
     ]
    }
   ],
   "source": [
    "#82、计算一个矩阵的秩\n",
    "import numpy as np\n",
    "Z = np.random.uniform(0,1,(10,10))\n",
    "U, S, V = np.linalg.svd(Z)\n",
    "rank = np.sum(S > 1e-10)\n",
    "print(rank)"
   ]
  },
  {
   "cell_type": "code",
   "execution_count": 4,
   "metadata": {},
   "outputs": [
    {
     "name": "stdout",
     "output_type": "stream",
     "text": [
      "7\n"
     ]
    }
   ],
   "source": [
    "#83、如何找到一个数组中出现频率最高的值\n",
    "Z = np.random.randint(0,10,50)\n",
    "print(np.bincount(Z).argmax())"
   ]
  },
  {
   "cell_type": "code",
   "execution_count": 11,
   "metadata": {},
   "outputs": [
    {
     "name": "stdout",
     "output_type": "stream",
     "text": [
      "[[[[3 3 1]\n",
      "   [4 0 3]\n",
      "   [2 0 0]]\n",
      "\n",
      "  [[3 1 1]\n",
      "   [0 3 2]\n",
      "   [0 0 2]]\n",
      "\n",
      "  [[1 1 0]\n",
      "   [3 2 2]\n",
      "   [0 2 4]]\n",
      "\n",
      "  [[1 0 4]\n",
      "   [2 2 4]\n",
      "   [2 4 3]]\n",
      "\n",
      "  [[0 4 1]\n",
      "   [2 4 4]\n",
      "   [4 3 1]]\n",
      "\n",
      "  [[4 1 1]\n",
      "   [4 4 0]\n",
      "   [3 1 0]]\n",
      "\n",
      "  [[1 1 2]\n",
      "   [4 0 2]\n",
      "   [1 0 0]]\n",
      "\n",
      "  [[1 2 0]\n",
      "   [0 2 2]\n",
      "   [0 0 2]]]\n",
      "\n",
      "\n",
      " [[[4 0 3]\n",
      "   [2 0 0]\n",
      "   [2 4 1]]\n",
      "\n",
      "  [[0 3 2]\n",
      "   [0 0 2]\n",
      "   [4 1 0]]\n",
      "\n",
      "  [[3 2 2]\n",
      "   [0 2 4]\n",
      "   [1 0 2]]\n",
      "\n",
      "  [[2 2 4]\n",
      "   [2 4 3]\n",
      "   [0 2 4]]\n",
      "\n",
      "  [[2 4 4]\n",
      "   [4 3 1]\n",
      "   [2 4 4]]\n",
      "\n",
      "  [[4 4 0]\n",
      "   [3 1 0]\n",
      "   [4 4 2]]\n",
      "\n",
      "  [[4 0 2]\n",
      "   [1 0 0]\n",
      "   [4 2 4]]\n",
      "\n",
      "  [[0 2 2]\n",
      "   [0 0 2]\n",
      "   [2 4 2]]]\n",
      "\n",
      "\n",
      " [[[2 0 0]\n",
      "   [2 4 1]\n",
      "   [4 0 3]]\n",
      "\n",
      "  [[0 0 2]\n",
      "   [4 1 0]\n",
      "   [0 3 2]]\n",
      "\n",
      "  [[0 2 4]\n",
      "   [1 0 2]\n",
      "   [3 2 3]]\n",
      "\n",
      "  [[2 4 3]\n",
      "   [0 2 4]\n",
      "   [2 3 3]]\n",
      "\n",
      "  [[4 3 1]\n",
      "   [2 4 4]\n",
      "   [3 3 1]]\n",
      "\n",
      "  [[3 1 0]\n",
      "   [4 4 2]\n",
      "   [3 1 3]]\n",
      "\n",
      "  [[1 0 0]\n",
      "   [4 2 4]\n",
      "   [1 3 4]]\n",
      "\n",
      "  [[0 0 2]\n",
      "   [2 4 2]\n",
      "   [3 4 1]]]\n",
      "\n",
      "\n",
      " [[[2 4 1]\n",
      "   [4 0 3]\n",
      "   [4 4 3]]\n",
      "\n",
      "  [[4 1 0]\n",
      "   [0 3 2]\n",
      "   [4 3 1]]\n",
      "\n",
      "  [[1 0 2]\n",
      "   [3 2 3]\n",
      "   [3 1 1]]\n",
      "\n",
      "  [[0 2 4]\n",
      "   [2 3 3]\n",
      "   [1 1 4]]\n",
      "\n",
      "  [[2 4 4]\n",
      "   [3 3 1]\n",
      "   [1 4 1]]\n",
      "\n",
      "  [[4 4 2]\n",
      "   [3 1 3]\n",
      "   [4 1 2]]\n",
      "\n",
      "  [[4 2 4]\n",
      "   [1 3 4]\n",
      "   [1 2 1]]\n",
      "\n",
      "  [[2 4 2]\n",
      "   [3 4 1]\n",
      "   [2 1 3]]]\n",
      "\n",
      "\n",
      " [[[4 0 3]\n",
      "   [4 4 3]\n",
      "   [3 0 0]]\n",
      "\n",
      "  [[0 3 2]\n",
      "   [4 3 1]\n",
      "   [0 0 3]]\n",
      "\n",
      "  [[3 2 3]\n",
      "   [3 1 1]\n",
      "   [0 3 0]]\n",
      "\n",
      "  [[2 3 3]\n",
      "   [1 1 4]\n",
      "   [3 0 1]]\n",
      "\n",
      "  [[3 3 1]\n",
      "   [1 4 1]\n",
      "   [0 1 0]]\n",
      "\n",
      "  [[3 1 3]\n",
      "   [4 1 2]\n",
      "   [1 0 2]]\n",
      "\n",
      "  [[1 3 4]\n",
      "   [1 2 1]\n",
      "   [0 2 2]]\n",
      "\n",
      "  [[3 4 1]\n",
      "   [2 1 3]\n",
      "   [2 2 2]]]\n",
      "\n",
      "\n",
      " [[[4 4 3]\n",
      "   [3 0 0]\n",
      "   [0 2 3]]\n",
      "\n",
      "  [[4 3 1]\n",
      "   [0 0 3]\n",
      "   [2 3 0]]\n",
      "\n",
      "  [[3 1 1]\n",
      "   [0 3 0]\n",
      "   [3 0 3]]\n",
      "\n",
      "  [[1 1 4]\n",
      "   [3 0 1]\n",
      "   [0 3 0]]\n",
      "\n",
      "  [[1 4 1]\n",
      "   [0 1 0]\n",
      "   [3 0 1]]\n",
      "\n",
      "  [[4 1 2]\n",
      "   [1 0 2]\n",
      "   [0 1 3]]\n",
      "\n",
      "  [[1 2 1]\n",
      "   [0 2 2]\n",
      "   [1 3 4]]\n",
      "\n",
      "  [[2 1 3]\n",
      "   [2 2 2]\n",
      "   [3 4 3]]]\n",
      "\n",
      "\n",
      " [[[3 0 0]\n",
      "   [0 2 3]\n",
      "   [3 0 3]]\n",
      "\n",
      "  [[0 0 3]\n",
      "   [2 3 0]\n",
      "   [0 3 1]]\n",
      "\n",
      "  [[0 3 0]\n",
      "   [3 0 3]\n",
      "   [3 1 1]]\n",
      "\n",
      "  [[3 0 1]\n",
      "   [0 3 0]\n",
      "   [1 1 4]]\n",
      "\n",
      "  [[0 1 0]\n",
      "   [3 0 1]\n",
      "   [1 4 2]]\n",
      "\n",
      "  [[1 0 2]\n",
      "   [0 1 3]\n",
      "   [4 2 0]]\n",
      "\n",
      "  [[0 2 2]\n",
      "   [1 3 4]\n",
      "   [2 0 2]]\n",
      "\n",
      "  [[2 2 2]\n",
      "   [3 4 3]\n",
      "   [0 2 4]]]\n",
      "\n",
      "\n",
      " [[[0 2 3]\n",
      "   [3 0 3]\n",
      "   [4 4 3]]\n",
      "\n",
      "  [[2 3 0]\n",
      "   [0 3 1]\n",
      "   [4 3 0]]\n",
      "\n",
      "  [[3 0 3]\n",
      "   [3 1 1]\n",
      "   [3 0 2]]\n",
      "\n",
      "  [[0 3 0]\n",
      "   [1 1 4]\n",
      "   [0 2 2]]\n",
      "\n",
      "  [[3 0 1]\n",
      "   [1 4 2]\n",
      "   [2 2 2]]\n",
      "\n",
      "  [[0 1 3]\n",
      "   [4 2 0]\n",
      "   [2 2 2]]\n",
      "\n",
      "  [[1 3 4]\n",
      "   [2 0 2]\n",
      "   [2 2 0]]\n",
      "\n",
      "  [[3 4 3]\n",
      "   [0 2 4]\n",
      "   [2 0 0]]]]\n"
     ]
    }
   ],
   "source": [
    "#84、从一个10x10的矩阵中提取出连续的3x3区块\n",
    "#注意这个地方C的那个地方（np.lib）\n",
    "Z = np.random.randint(0,5,(10,10))\n",
    "n = 3\n",
    "i = 1 + (Z.shape[0]-3)\n",
    "j = 1 + (Z.shape[1]-3)\n",
    "C = np.lib.stride_tricks.as_strided(Z, shape=(i, j, n, n), strides=Z.strides + Z.strides)\n",
    "print(C)"
   ]
  },
  {
   "cell_type": "code",
   "execution_count": 22,
   "metadata": {},
   "outputs": [
    {
     "name": "stdout",
     "output_type": "stream",
     "text": [
      "[[ 3  5 14  6 17]\n",
      " [ 5  4 12 10  5]\n",
      " [14 12  5 42 14]\n",
      " [ 6 10 42  1  5]\n",
      " [17  5 14  5  4]]\n"
     ]
    }
   ],
   "source": [
    "#85、创满足z[i,j]==z[j,i]的子类\n",
    "class Symetric(np.ndarray):\n",
    "    def __setitem__(self, index, value):\n",
    "        i,j = index\n",
    "        super(Symetric, self).__setitem__((i,j), value)\n",
    "        super(Symetric, self).__setitem__((j,i), value)\n",
    "\n",
    "def symetric(Z):\n",
    "    return np.asarray(Z + Z.T - np.diag(Z.diagonal())).view(Symetric)\n",
    "\n",
    "S = symetric(np.random.randint(0,10,(5,5)))\n",
    "S[2,3] = 42\n",
    "print (S)"
   ]
  },
  {
   "cell_type": "code",
   "execution_count": 25,
   "metadata": {},
   "outputs": [
    {
     "name": "stdout",
     "output_type": "stream",
     "text": [
      "[[200.]\n",
      " [200.]\n",
      " [200.]\n",
      " [200.]\n",
      " [200.]\n",
      " [200.]\n",
      " [200.]\n",
      " [200.]\n",
      " [200.]\n",
      " [200.]\n",
      " [200.]\n",
      " [200.]\n",
      " [200.]\n",
      " [200.]\n",
      " [200.]\n",
      " [200.]\n",
      " [200.]\n",
      " [200.]\n",
      " [200.]\n",
      " [200.]]\n"
     ]
    }
   ],
   "source": [
    "#86、考虑p个n*n矩阵和一组形状为（n，1）的向量，如何计算p个矩阵的乘积\n",
    "p,n = 10,20\n",
    "M = np.ones((p,n,n))\n",
    "V = np.ones((p,n,1))\n",
    "S = np.tensordot(M,V,axes=[[0,2],[0,1]])\n",
    "print(S)\n",
    "\n",
    "    "
   ]
  },
  {
   "cell_type": "code",
   "execution_count": 30,
   "metadata": {},
   "outputs": [
    {
     "name": "stdout",
     "output_type": "stream",
     "text": [
      "[[16. 16. 16. 16.]\n",
      " [16. 16. 16. 16.]\n",
      " [16. 16. 16. 16.]\n",
      " [16. 16. 16. 16.]]\n"
     ]
    }
   ],
   "source": [
    "#87、对于一个16x16的数组，如何得到一个区域（block-sum）的和（区域大小为4*4）\n",
    "Z = np.ones((16,16))\n",
    "k = 4\n",
    "S = np.add.reduceat(np.add.reduceat(Z, np.arange(0, Z.shape[0],k), axis=0),\n",
    "                   np.arange(0, Z.shape[1],k), axis=1)\n",
    "print (S)"
   ]
  },
  {
   "cell_type": "code",
   "execution_count": 34,
   "metadata": {},
   "outputs": [
    {
     "name": "stdout",
     "output_type": "stream",
     "text": [
      "[[0 0 0 ... 0 0 0]\n",
      " [0 0 0 ... 0 0 0]\n",
      " [0 0 0 ... 0 0 0]\n",
      " ...\n",
      " [0 0 0 ... 0 0 0]\n",
      " [0 0 0 ... 0 0 0]\n",
      " [0 0 0 ... 0 0 0]]\n"
     ]
    }
   ],
   "source": [
    "#88、如何利用numpy数组实现Game of Life\n",
    "def iterate(Z):\n",
    "    N = (Z[0:-2,0:-2] + Z[0:-2,1:-1] + Z[0:-2,2:] + \n",
    "        Z[1:-1,0:-2] + Z[1:-1,2:] + Z[2: ,0:-2] + \n",
    "        Z[2: ,1:-1] + Z[2: ,2:])\n",
    "    birth = (N==3) & (Z[1:-1,1:-1]==0)\n",
    "    survive = ((N==2) | (N==3)) & (Z[1:-1,1:-1]==1)\n",
    "    Z[...] = 0\n",
    "    Z[1:-1,1:-1][birth | survive] = 1\n",
    "    return Z\n",
    "Z = np.random.randint(0,2,(50,50))\n",
    "for i in range(100): Z = iterate(Z)\n",
    "print (Z)"
   ]
  },
  {
   "cell_type": "code",
   "execution_count": 35,
   "metadata": {},
   "outputs": [
    {
     "name": "stdout",
     "output_type": "stream",
     "text": [
      "[9995 9996 9997 9998 9999]\n"
     ]
    }
   ],
   "source": [
    "#89-1、如何找到一个数组的第n个最大值\n",
    "Z = np.arange(10000)\n",
    "np.random.shuffle(Z)\n",
    "n = 5\n",
    "print (Z[np.argsort(Z)[-n:]])"
   ]
  },
  {
   "cell_type": "code",
   "execution_count": 36,
   "metadata": {},
   "outputs": [
    {
     "name": "stdout",
     "output_type": "stream",
     "text": [
      "[9997 9999 9996 9998 9995]\n"
     ]
    }
   ],
   "source": [
    "#89-2、\n",
    "Z = np.arange(10000)\n",
    "np.random.shuffle(Z)\n",
    "n = 5\n",
    "print (Z[np.argpartition(-Z,n)[:n]])"
   ]
  },
  {
   "cell_type": "code",
   "execution_count": 38,
   "metadata": {},
   "outputs": [
    {
     "name": "stdout",
     "output_type": "stream",
     "text": [
      "[[1 4 6]\n",
      " [1 4 7]\n",
      " [1 5 6]\n",
      " [1 5 7]\n",
      " [2 4 6]\n",
      " [2 4 7]\n",
      " [2 5 6]\n",
      " [2 5 7]\n",
      " [3 4 6]\n",
      " [3 4 7]\n",
      " [3 5 6]\n",
      " [3 5 7]]\n"
     ]
    }
   ],
   "source": [
    "#90、给定任意个数向量，创建笛卡尔（每一个元素的每一种组合）\n",
    "def cartesian(arrays):\n",
    "    arrays = [np.asarray(a) for a in arrays]\n",
    "    shape = (len(x) for x in arrays)\n",
    "    ix = np.indices(shape, dtype=int)\n",
    "    ix = ix.reshape(len(arrays), -1).T\n",
    "    for n, arr in enumerate(arrays):\n",
    "        ix[:, n] = arrays[n][ix[:, n]]\n",
    "    return ix\n",
    "print (cartesian(([1,2,3],[4,5],[6,7])))\n",
    "    "
   ]
  },
  {
   "cell_type": "code",
   "execution_count": 40,
   "metadata": {},
   "outputs": [
    {
     "name": "stdout",
     "output_type": "stream",
     "text": [
      "[(b'Hello', 2.5, 3) (b'World', 3.6, 2)]\n"
     ]
    }
   ],
   "source": [
    "#91、如何从一个正常数组创建记录数组（record array）\n",
    "Z = np.array([(\"Hello\", 2.5, 3),\n",
    "             (\"World\", 3.6, 2)])\n",
    "R = np.core.records.fromarrays(Z.T, \n",
    "                               names='col1, col2, col3',\n",
    "                              formats = 'S8, f8, i8')\n",
    "print (R)"
   ]
  },
  {
   "cell_type": "code",
   "execution_count": 41,
   "metadata": {},
   "outputs": [
    {
     "data": {
      "text/plain": [
       "0.18527614544392634"
      ]
     },
     "execution_count": 41,
     "metadata": {},
     "output_type": "execute_result"
    }
   ],
   "source": [
    "#92-1、考虑一个大向量Z，用三种不同的方法计算它的立方\n",
    "x = np.random.rand()\n",
    "np.power(x,3)"
   ]
  },
  {
   "cell_type": "code",
   "execution_count": 42,
   "metadata": {},
   "outputs": [
    {
     "data": {
      "text/plain": [
       "0.18527614544392634"
      ]
     },
     "execution_count": 42,
     "metadata": {},
     "output_type": "execute_result"
    }
   ],
   "source": [
    "#92-2\n",
    "x*x*x"
   ]
  },
  {
   "cell_type": "code",
   "execution_count": 45,
   "metadata": {},
   "outputs": [
    {
     "name": "stdout",
     "output_type": "stream",
     "text": [
      "[3]\n"
     ]
    }
   ],
   "source": [
    "#93、如何在数组A中找到满足包含B中元素的行\n",
    "A = np.random.randint(0,5,(8,3))\n",
    "B = np.random.randint(0,5,(2,2))\n",
    "\n",
    "C = (A[..., np.newaxis, np.newaxis] == B)\n",
    "rows = np.where(C.any((3,1)).all(1))[0]\n",
    "print (rows)"
   ]
  },
  {
   "cell_type": "code",
   "execution_count": 46,
   "metadata": {},
   "outputs": [
    {
     "name": "stdout",
     "output_type": "stream",
     "text": [
      "[[0 2 4]\n",
      " [2 0 3]\n",
      " [3 0 2]\n",
      " [4 2 2]\n",
      " [1 1 3]\n",
      " [1 1 2]\n",
      " [2 1 3]\n",
      " [1 3 0]\n",
      " [0 2 1]\n",
      " [2 4 4]]\n",
      "[[0 2 4]\n",
      " [2 0 3]\n",
      " [3 0 2]\n",
      " [4 2 2]\n",
      " [1 1 3]\n",
      " [1 1 2]\n",
      " [2 1 3]\n",
      " [1 3 0]\n",
      " [0 2 1]\n",
      " [2 4 4]]\n"
     ]
    }
   ],
   "source": [
    "#94-1、考虑一个10x3的矩阵，分解出不全相同值的行\n",
    "Z = np.random.randint(0,5,(10,3))\n",
    "print (Z)\n",
    "\n",
    "E = np.all(Z[:,1:] == Z[:,:-1], axis=1)\n",
    "U = Z[~E]\n",
    "print (U)"
   ]
  },
  {
   "cell_type": "code",
   "execution_count": 47,
   "metadata": {},
   "outputs": [
    {
     "name": "stdout",
     "output_type": "stream",
     "text": [
      "[[0 2 4]\n",
      " [2 0 3]\n",
      " [3 0 2]\n",
      " [4 2 2]\n",
      " [1 1 3]\n",
      " [1 1 2]\n",
      " [2 1 3]\n",
      " [1 3 0]\n",
      " [0 2 1]\n",
      " [2 4 4]]\n"
     ]
    }
   ],
   "source": [
    "#94-2、\n",
    "U = Z[Z.max(axis=1) != Z.min(axis=1),:]\n",
    "print (U)"
   ]
  },
  {
   "cell_type": "code",
   "execution_count": 48,
   "metadata": {},
   "outputs": [
    {
     "name": "stdout",
     "output_type": "stream",
     "text": [
      "[[0 0 0 0 0 0 0 0]\n",
      " [0 0 0 0 0 0 0 1]\n",
      " [0 0 0 0 0 0 1 0]\n",
      " [0 0 0 0 0 0 1 1]\n",
      " [0 0 0 0 1 1 1 1]\n",
      " [0 0 0 1 0 0 0 0]\n",
      " [0 0 1 0 0 0 0 0]\n",
      " [0 1 0 0 0 0 0 0]\n",
      " [1 0 0 0 0 0 0 0]]\n"
     ]
    }
   ],
   "source": [
    "#95-1、讲一个整数向量转换为matrix binary的表现形式\n",
    "I = np.array([0, 1, 2, 3, 15, 16, 32, 64, 128])\n",
    "B = ((I.reshape(-1,1) & (2**np.arange(8))) != 0).astype(int)\n",
    "print(B[:,::-1])"
   ]
  },
  {
   "cell_type": "code",
   "execution_count": 53,
   "metadata": {},
   "outputs": [
    {
     "name": "stdout",
     "output_type": "stream",
     "text": [
      "[[0 1 1]\n",
      " [1 0 0]\n",
      " [1 0 1]\n",
      " [1 1 1]]\n"
     ]
    }
   ],
   "source": [
    "#96、给定一个二维数组，如何提取出唯一的unique行\n",
    "Z = np.random.randint(0,2,(6,3))\n",
    "T = np.ascontiguousarray(Z).view(np.dtype((np.void, Z.dtype.itemsize * Z.shape[1])))\n",
    "_, idx = np.unique(T, return_index=True)\n",
    "uZ = Z[idx]\n",
    "print (uZ)"
   ]
  },
  {
   "cell_type": "code",
   "execution_count": 55,
   "metadata": {},
   "outputs": [
    {
     "name": "stdout",
     "output_type": "stream",
     "text": [
      "sum\n",
      "6.7728151418370865\n"
     ]
    }
   ],
   "source": [
    "#97-1、考虑两个向量A和B，写出用enisum等式对应的inner、outer、sum、mul函数\n",
    "A = np.random.uniform(0,1,10)\n",
    "B = np.random.uniform(0,1,10)\n",
    "print ('sum')\n",
    "print (np.einsum('i->', A))"
   ]
  },
  {
   "cell_type": "code",
   "execution_count": 56,
   "metadata": {},
   "outputs": [
    {
     "name": "stdout",
     "output_type": "stream",
     "text": [
      "A*B\n",
      "[0.18389935 0.6276319  0.14807184 0.60183495 0.06908811 0.02441058\n",
      " 0.23125292 0.28189912 0.45735834 0.22390112]\n"
     ]
    }
   ],
   "source": [
    "#97-2、\n",
    "A = np.random.uniform(0,1,10)\n",
    "B = np.random.uniform(0,1,10)\n",
    "print ('A*B')\n",
    "print (np.einsum('i,i->i', A, B))"
   ]
  },
  {
   "cell_type": "code",
   "execution_count": 57,
   "metadata": {},
   "outputs": [
    {
     "name": "stdout",
     "output_type": "stream",
     "text": [
      "inner\n",
      "3.418110400474914\n"
     ]
    }
   ],
   "source": [
    "#97-3、\n",
    "A = np.random.uniform(0,1,10)\n",
    "B = np.random.uniform(0,1,10)\n",
    "print ('inner')\n",
    "print (np.einsum('i,i', A, B))"
   ]
  },
  {
   "cell_type": "code",
   "execution_count": 58,
   "metadata": {},
   "outputs": [
    {
     "name": "stdout",
     "output_type": "stream",
     "text": [
      "outer\n",
      "[[0.0270803  0.01534021 0.0280354  0.04747831 0.00995698 0.04342987\n",
      "  0.09835325 0.062493   0.00563334 0.01091078]\n",
      " [0.10038855 0.05686721 0.10392916 0.17600539 0.03691122 0.16099755\n",
      "  0.36460231 0.2316659  0.02088319 0.04044703]\n",
      " [0.0054288  0.00307526 0.00562027 0.00951801 0.00199608 0.00870641\n",
      "  0.01971694 0.01252801 0.00112932 0.00218729]\n",
      " [0.25291862 0.14327107 0.26183881 0.44342746 0.09299402 0.40561676\n",
      "  0.91857799 0.58365839 0.05261304 0.10190213]\n",
      " [0.05384319 0.03050061 0.05574218 0.09440012 0.01979726 0.0863507\n",
      "  0.19555368 0.12425352 0.01120065 0.02169368]\n",
      " [0.20533103 0.11631409 0.21257286 0.35999492 0.07549685 0.32929845\n",
      "  0.74574411 0.47384088 0.0427137  0.08272886]\n",
      " [0.0935799  0.0530103  0.09688037 0.16406817 0.03440779 0.15007822\n",
      "  0.33987389 0.21595362 0.01946683 0.03770379]\n",
      " [0.03185167 0.01804305 0.03297505 0.05584367 0.01171134 0.05108193\n",
      "  0.11568244 0.07350386 0.0066259  0.01283319]\n",
      " [0.03123215 0.01769211 0.03233368 0.0547575  0.01148355 0.05008838\n",
      "  0.11343239 0.07207419 0.00649702 0.01258358]\n",
      " [0.12373827 0.07009415 0.12810239 0.21694308 0.04549653 0.19844452\n",
      "  0.44940641 0.28554987 0.02574048 0.04985474]]\n"
     ]
    }
   ],
   "source": [
    "#97-4、\n",
    "A = np.random.uniform(0,1,10)\n",
    "B = np.random.uniform(0,1,10)\n",
    "print ('outer')\n",
    "print (np.einsum('i,j->ij', A, B))"
   ]
  },
  {
   "cell_type": "code",
   "execution_count": 60,
   "metadata": {},
   "outputs": [],
   "source": [
    "#98、用等距样例进行采样\n",
    "phi = np.arange(0, 10*np.pi, 0.1)\n",
    "a = 1\n",
    "x = a*phi*np.cos(phi)\n",
    "y = a*phi*np.cos(phi)\n",
    "\n",
    "dr = (np.diff(x)**2 + np.diff(y)**2)**.5\n",
    "r = np.zeros_like(x)\n",
    "r[1:] = np.cumsum(dr) \n",
    "r_int = np.linspace(0, r.max(), 200)\n",
    "x_int = np.interp(r_int, r, x)\n",
    "y_int = np.interp(r_int, r, y)"
   ]
  },
  {
   "cell_type": "code",
   "execution_count": 61,
   "metadata": {},
   "outputs": [
    {
     "name": "stdout",
     "output_type": "stream",
     "text": [
      "[[2. 0. 1. 1.]]\n"
     ]
    }
   ],
   "source": [
    "#99、\n",
    "X = np.asarray([[1.0, 0.0, 3.0, 8.0],\n",
    "                [2.0, 0.0, 1.0, 1.0],\n",
    "                [1.5, 2.5, 1.0, 0.0]])\n",
    "n = 4\n",
    "M = np.logical_and.reduce(np.mod(X, 1) == 0, axis=-1)\n",
    "M &= (X.sum(axis=-1) == n)\n",
    "print (X[M])"
   ]
  },
  {
   "cell_type": "code",
   "execution_count": 62,
   "metadata": {},
   "outputs": [
    {
     "name": "stdout",
     "output_type": "stream",
     "text": [
      "[-0.13616156  0.23971301]\n"
     ]
    }
   ],
   "source": [
    "#100、对一个一维数组X，计算它boostrapped之后的95%置信区间的平均值\n",
    "X = np.random.randn(100)\n",
    "N = 1000 # number of bootstrap samples\n",
    "idx = np.random.randint(0, X.size, (N, X.size))\n",
    "means = X[idx].mean(axis=1)\n",
    "confint = np.percentile(means, [2.5, 97.5])\n",
    "print (confint)"
   ]
  },
  {
   "cell_type": "code",
   "execution_count": null,
   "metadata": {},
   "outputs": [],
   "source": []
  }
 ],
 "metadata": {
  "kernelspec": {
   "display_name": "Python 3",
   "language": "python",
   "name": "python3"
  },
  "language_info": {
   "codemirror_mode": {
    "name": "ipython",
    "version": 3
   },
   "file_extension": ".py",
   "mimetype": "text/x-python",
   "name": "python",
   "nbconvert_exporter": "python",
   "pygments_lexer": "ipython3",
   "version": "3.6.8"
  }
 },
 "nbformat": 4,
 "nbformat_minor": 2
}
